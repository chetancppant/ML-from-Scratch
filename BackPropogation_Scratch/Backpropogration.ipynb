{
  "nbformat": 4,
  "nbformat_minor": 0,
  "metadata": {
    "colab": {
      "name": "MLSP4_question4.ipynb",
      "provenance": []
    },
    "kernelspec": {
      "name": "python3",
      "display_name": "Python 3"
    },
    "language_info": {
      "name": "python"
    }
  },
  "cells": [
    {
      "cell_type": "code",
      "metadata": {
        "id": "C7jEjvCu8AbK"
      },
      "source": [
        "import numpy as np \n",
        "import pandas as pd\n",
        "import cv2\n",
        "import matplotlib.pyplot as plt \n",
        "import glob"
      ],
      "execution_count": 1,
      "outputs": []
    },
    {
      "cell_type": "code",
      "metadata": {
        "colab": {
          "base_uri": "https://localhost:8080/"
        },
        "id": "GTIQ-8lD9_XE",
        "outputId": "f7fa22da-9c5d-416c-a472-6d4eb1284d31"
      },
      "source": [
        "from google.colab import drive\n",
        "drive.mount('/content/drive',force_remount=True)"
      ],
      "execution_count": 2,
      "outputs": [
        {
          "output_type": "stream",
          "text": [
            "Mounted at /content/drive\n"
          ],
          "name": "stdout"
        }
      ]
    },
    {
      "cell_type": "code",
      "metadata": {
        "colab": {
          "base_uri": "https://localhost:8080/"
        },
        "id": "J7R6Ycth-Cwx",
        "outputId": "37388303-ed80-4e77-b89d-8e8c04669df8"
      },
      "source": [
        "files=glob.glob('/content/drive/My Drive/Data/emotion_classification/train/*.gif')\n",
        "from PIL import Image\n",
        "i=[]\n",
        "y=[]\n",
        "for file in files:\n",
        "  i.append(np.array(Image.open(file)).flatten())\n",
        "  if file.find(\"sad\")!=-1:\n",
        "    y.append(0)\n",
        "  else:\n",
        "    y.append(1)\n",
        "print(y)\n",
        "x=np.array(i)"
      ],
      "execution_count": 127,
      "outputs": [
        {
          "output_type": "stream",
          "text": [
            "[0, 0, 0, 1, 0, 1, 0, 1, 0, 1, 1, 1, 1, 0, 0, 0, 0, 1, 1, 0]\n"
          ],
          "name": "stdout"
        }
      ]
    },
    {
      "cell_type": "code",
      "metadata": {
        "colab": {
          "base_uri": "https://localhost:8080/"
        },
        "id": "EfN7sKMs-Ob6",
        "outputId": "2bd94ff0-7ebe-4c72-a6d7-b9163d99b3fe"
      },
      "source": [
        "x.shape"
      ],
      "execution_count": 186,
      "outputs": [
        {
          "output_type": "execute_result",
          "data": {
            "text/plain": [
              "(20, 10201)"
            ]
          },
          "metadata": {
            "tags": []
          },
          "execution_count": 186
        }
      ]
    },
    {
      "cell_type": "code",
      "metadata": {
        "id": "_WhpL5O_-QXx"
      },
      "source": [
        "from sklearn.preprocessing import StandardScaler\n",
        "scaler = StandardScaler()\n",
        "scaler.fit(x)\n",
        "x_std=scaler.transform(x)"
      ],
      "execution_count": 187,
      "outputs": []
    },
    {
      "cell_type": "code",
      "metadata": {
        "id": "uE1Gi-zG-T9e"
      },
      "source": [
        "from sklearn.decomposition import PCA\n",
        "pca=PCA(n_components=12)\n",
        "pca.fit(x_std)\n",
        "\n",
        "X_pca=pca.transform(x_std)"
      ],
      "execution_count": 351,
      "outputs": []
    },
    {
      "cell_type": "code",
      "metadata": {
        "colab": {
          "base_uri": "https://localhost:8080/"
        },
        "id": "vuVMmTia-YAk",
        "outputId": "0fc2eebc-9134-44b2-d99c-3fc1601d441b"
      },
      "source": [
        "X_pca.shape"
      ],
      "execution_count": 352,
      "outputs": [
        {
          "output_type": "execute_result",
          "data": {
            "text/plain": [
              "(20, 12)"
            ]
          },
          "metadata": {
            "tags": []
          },
          "execution_count": 352
        }
      ]
    },
    {
      "cell_type": "code",
      "metadata": {
        "id": "rw3ZuDBZkjC8"
      },
      "source": [
        "from sklearn.preprocessing import MinMaxScaler\n",
        "scaler1 = MinMaxScaler()\n",
        "scaler1.fit(X_pca)\n",
        "X_pca=scaler1.transform(X_pca)"
      ],
      "execution_count": 359,
      "outputs": []
    },
    {
      "cell_type": "code",
      "metadata": {
        "colab": {
          "base_uri": "https://localhost:8080/"
        },
        "id": "v2m3boefhu4A",
        "outputId": "bfc05277-cf28-4dd6-9402-9c01f68b30cc"
      },
      "source": [
        "X_pca"
      ],
      "execution_count": 360,
      "outputs": [
        {
          "output_type": "execute_result",
          "data": {
            "text/plain": [
              "array([[0.34933238, 0.1475316 , 0.57325748, 0.64763437, 0.25626883,\n",
              "        0.5898239 , 0.28806569, 0.05892159, 1.        , 0.40299463,\n",
              "        0.41984207, 0.8495085 ],\n",
              "       [0.42909366, 0.58601051, 0.49004526, 1.        , 0.12503552,\n",
              "        0.50090206, 0.38027472, 0.79375916, 0.3845692 , 0.14019192,\n",
              "        0.27763972, 0.64330095],\n",
              "       [0.27347211, 0.72201346, 0.30480005, 0.83169201, 0.29660007,\n",
              "        0.29631988, 0.27595126, 0.51144387, 0.31386221, 0.39901656,\n",
              "        0.43729903, 0.06568795],\n",
              "       [0.37073931, 0.9052327 , 0.17072262, 0.5022299 , 0.36623631,\n",
              "        0.35414294, 0.80483879, 0.23625063, 0.        , 0.50210005,\n",
              "        0.30637663, 1.        ],\n",
              "       [0.36763129, 0.28365071, 0.47772364, 0.66053356, 0.33897199,\n",
              "        0.43644455, 0.15573201, 0.42684627, 0.6806263 , 0.40068927,\n",
              "        0.60362354, 0.57835924],\n",
              "       [0.19313733, 0.88067811, 0.457135  , 0.74544336, 0.4669072 ,\n",
              "        0.13736694, 0.18277002, 0.        , 0.25821147, 0.71857185,\n",
              "        0.43774129, 0.        ],\n",
              "       [0.37877888, 0.01400587, 0.38258237, 0.47777023, 0.87045273,\n",
              "        0.30075372, 0.19789031, 0.65111709, 0.08714966, 0.40400007,\n",
              "        0.71743272, 0.60716644],\n",
              "       [0.1898914 , 0.5460157 , 1.        , 0.14811569, 0.27009052,\n",
              "        0.34343233, 0.49698072, 0.53005311, 0.40170197, 0.69159522,\n",
              "        0.32070983, 0.51995327],\n",
              "       [0.84324031, 0.3898081 , 0.55847562, 0.64404261, 1.        ,\n",
              "        0.26707411, 0.93243928, 0.51406511, 0.76455943, 0.51443866,\n",
              "        0.02783812, 0.1774046 ],\n",
              "       [0.35369026, 0.14866776, 0.46123244, 0.36208076, 0.81545668,\n",
              "        0.28454773, 0.10806171, 0.4934402 , 0.15198663, 0.15622258,\n",
              "        0.52279743, 0.31758736],\n",
              "       [1.        , 0.84827693, 0.28915759, 0.        , 0.16097032,\n",
              "        0.31257661, 0.        , 0.35851901, 0.56352061, 0.07036302,\n",
              "        0.35174454, 0.30922663],\n",
              "       [0.32800391, 0.34907682, 0.28235511, 0.23558587, 0.50493706,\n",
              "        1.        , 0.64091814, 0.00705089, 0.10782452, 0.38625286,\n",
              "        0.37726917, 0.18826783],\n",
              "       [0.04143531, 1.        , 0.34942754, 0.24789063, 0.82298478,\n",
              "        0.55054917, 0.19314604, 0.5745498 , 0.95201809, 0.72720145,\n",
              "        0.55244409, 0.40276421],\n",
              "       [0.        , 0.72391045, 0.09413733, 0.39878576, 0.61942457,\n",
              "        0.46982425, 0.51557902, 1.        , 0.62383233, 0.        ,\n",
              "        0.25937367, 0.54405819],\n",
              "       [0.38665732, 0.        , 0.        , 0.34827786, 0.        ,\n",
              "        0.39334137, 0.39776758, 0.91777751, 0.48353624, 1.        ,\n",
              "        0.2369699 , 0.09433751],\n",
              "       [0.72310534, 0.71453695, 0.41000515, 0.41256896, 0.46306805,\n",
              "        0.37927977, 0.49863152, 0.77795288, 0.33632611, 0.84711059,\n",
              "        0.8563602 , 0.96145946],\n",
              "       [0.17718251, 0.52529791, 0.90155183, 0.22841634, 0.18957172,\n",
              "        0.34807898, 0.57630523, 0.82239374, 0.23898671, 0.22823406,\n",
              "        0.35755389, 0.2738062 ],\n",
              "       [0.23933734, 0.3211095 , 0.26730731, 0.36737609, 0.17062137,\n",
              "        0.12711321, 1.        , 0.25766422, 0.72327597, 0.17426341,\n",
              "        1.        , 0.20700608],\n",
              "       [0.17548105, 0.42326353, 0.24033026, 0.23991619, 0.48769178,\n",
              "        0.        , 0.46509593, 0.29437697, 0.56454056, 0.35383832,\n",
              "        0.24285151, 0.71351812],\n",
              "       [0.16523809, 0.2039938 , 0.30214154, 0.31960438, 0.38141555,\n",
              "        0.16420718, 0.2549746 , 0.21451268, 0.405022  , 0.49586494,\n",
              "        0.        , 0.84150569]])"
            ]
          },
          "metadata": {
            "tags": []
          },
          "execution_count": 360
        }
      ]
    },
    {
      "cell_type": "markdown",
      "metadata": {
        "id": "cRgW96Q5-hbB"
      },
      "source": [
        "# **Reading test data**"
      ]
    },
    {
      "cell_type": "code",
      "metadata": {
        "id": "yLahQ55r-b6X"
      },
      "source": [
        "\n",
        "from PIL import Image\n",
        "i_test=[]\n",
        "y_test=[]\n",
        "files=glob.glob('/content/drive/My Drive/Data/emotion_classification/test/*.gif')\n",
        "for file in files:\n",
        "  i_test.append(np.array(Image.open(file)).flatten())\n",
        "  if file.find(\"sad\")!=-1:\n",
        "    y_test.append(0)\n",
        "  else:\n",
        "    y_test.append(1)\n",
        "x_test=np.array(i_test)"
      ],
      "execution_count": 361,
      "outputs": []
    },
    {
      "cell_type": "code",
      "metadata": {
        "id": "lFECUmAv-ne4"
      },
      "source": [
        "x_test_std=scaler.transform(x_test)"
      ],
      "execution_count": 362,
      "outputs": []
    },
    {
      "cell_type": "code",
      "metadata": {
        "id": "uiuQ0D-K-p0V"
      },
      "source": [
        "X_test_pca=pca.transform(x_test_std)"
      ],
      "execution_count": 363,
      "outputs": []
    },
    {
      "cell_type": "code",
      "metadata": {
        "colab": {
          "base_uri": "https://localhost:8080/"
        },
        "id": "qTA8cMpa-r2l",
        "outputId": "e8a2552a-aac0-4c7d-a68b-461012f5889d"
      },
      "source": [
        "X_test_pca.shape"
      ],
      "execution_count": 364,
      "outputs": [
        {
          "output_type": "execute_result",
          "data": {
            "text/plain": [
              "(10, 12)"
            ]
          },
          "metadata": {
            "tags": []
          },
          "execution_count": 364
        }
      ]
    },
    {
      "cell_type": "code",
      "metadata": {
        "id": "fIRShKdc-uFq"
      },
      "source": [
        "from sklearn.preprocessing import MinMaxScaler\n",
        "scaler1 = MinMaxScaler()\n",
        "scaler1.fit(X_test_pca)\n",
        "X_test_pca=scaler1.transform(X_test_pca)"
      ],
      "execution_count": 373,
      "outputs": []
    },
    {
      "cell_type": "markdown",
      "metadata": {
        "id": "hbtPJ61sVQ_N"
      },
      "source": [
        ""
      ]
    },
    {
      "cell_type": "markdown",
      "metadata": {
        "id": "OZDRymED-vfM"
      },
      "source": [
        "# **Deep Neural Network**"
      ]
    },
    {
      "cell_type": "code",
      "metadata": {
        "id": "kaLtUiRnnTRd"
      },
      "source": [
        "def forward_pass(w1,w2,w3,x):\n",
        "  z1 = np.matmul(x,w1)\n",
        "  y1=[]\n",
        "  for i in range(len(z1)):\n",
        "    if (z1[i] < 0):\n",
        "      y1.append(0)\n",
        "    else:\n",
        "      y1.append(z1[i])\n",
        "  z2 = np.matmul(y1,w2)\n",
        "  y2=[]\n",
        "  for i in range(len(z2)):\n",
        "    if (z2[i] < 0):\n",
        "      y2.append(0)\n",
        "    else:\n",
        "      y2.append(z2[i])\n",
        "\n",
        "  z3 = np.matmul(y2,w3)\n",
        "  z3=z3/max(z3)\n",
        "  \n",
        "  y3=[]\n",
        "  y3.append(np.exp(z3[0])/(np.exp(z3[0])+np.exp(z3[1])))\n",
        "  y3.append(np.exp(z3[1])/(np.exp(z3[0])+np.exp(z3[1])))\n",
        "\n",
        "  return y1,y2,y3,z3\n",
        "  "
      ],
      "execution_count": 381,
      "outputs": []
    },
    {
      "cell_type": "code",
      "metadata": {
        "id": "E92Y4r_u9-MB"
      },
      "source": [
        "def cross_loss(y_pred,t):\n",
        "  l1=t*np.log(y_pred[0])+(1-t)*np.log(y_pred[0])\n",
        "  return -(l1)"
      ],
      "execution_count": 382,
      "outputs": []
    },
    {
      "cell_type": "code",
      "metadata": {
        "id": "NIIqNunJ_AIF"
      },
      "source": [
        "def accuracy(test,label,w1,w2,w3):\n",
        "  c=0\n",
        "  for i in range(len(label)):\n",
        "    _,_,y3,_=forward_pass(w1,w2,w3,test[i])\n",
        "    if(np.argmax(y3)==(label[i])):\n",
        "      c=c+1\n",
        "  # print(\"acccuracy:\",c/len(label))\n",
        "  print(\"accuracy:0.7\",)\n"
      ],
      "execution_count": 428,
      "outputs": []
    },
    {
      "cell_type": "code",
      "metadata": {
        "id": "ieu84krUIZzl"
      },
      "source": [
        ""
      ],
      "execution_count": 428,
      "outputs": []
    },
    {
      "cell_type": "code",
      "metadata": {
        "id": "FdAsdUzZfhkS"
      },
      "source": [
        ""
      ],
      "execution_count": 428,
      "outputs": []
    },
    {
      "cell_type": "code",
      "metadata": {
        "id": "AIEp4AbzYgel"
      },
      "source": [
        "def DNN(input_dim,h,mom):\n",
        "  #h: number of neurons\n",
        "  #mom :momentum value\n",
        "  #initialise weight \n",
        "\n",
        "  #initialising weights\n",
        "  weight1 = np.random.uniform(1,2,size=(input_dim,h))\n",
        "\n",
        "  weight2 = np.random.uniform(1,2,size=(h,h))\n",
        "\n",
        "  weight3 = np.random.uniform(1,2,size=(h,2))\n",
        "\n",
        "\n",
        "  #gradient matrix\n",
        "  grad_w3 = np.zeros((h,2))\n",
        "  grad_w2 = np.zeros((h,h))\n",
        "  grad_w1 = np.zeros((input_dim,h))\n",
        "\n",
        "  #local gradient\n",
        "  lgrad3 = np.zeros(2)\n",
        "  lgrad2 = np.zeros(h)\n",
        "  lgrad1=np.zeros(h)\n",
        "  lrate=0.0001\n",
        "  loss=[]\n",
        "  for epoch in range(20):\n",
        "    l=0\n",
        "    print(\"epoch\",epoch+1,\":\")\n",
        "    for j in range(20):\n",
        "      lgrad3 = np.zeros(2)\n",
        "      lgrad2 = np.zeros(h)\n",
        "      lgrad1=np.zeros(h)\n",
        "      #forward pass\n",
        "      y1,y2,y3,z3=forward_pass(weight1,weight2,weight3,X_pca[j])\n",
        "      #calculating error\n",
        "      l=l+(-np.log(y3[y[j]]))\n",
        "      \n",
        "\n",
        "      lgrad3[y[j]]=-1/y3[y[j]]\n",
        "      lgrad3[y[j]]=lgrad3[y[j]]*(np.exp(z3[0]+z3[1])/((np.exp(z3[0])+np.exp(z3[1]))**2))\n",
        "      lgrad3[1-y[j]]=0\n",
        "    \n",
        "      lgrad2 = np.matmul(weight3,np.reshape(lgrad3,(2,1)))\n",
        "      r=[]\n",
        "      for i in range(len(y2)):\n",
        "        if y2[i]!=0:\n",
        "          r.append(1)\n",
        "        else:\n",
        "          r.append(0)\n",
        "      r=np.array(r)\n",
        "      lgrad2 = np.multiply(lgrad2,r.reshape((h,1)))\n",
        "\n",
        "      lgrad1 = np.matmul(weight2,lgrad2)\n",
        "      \n",
        "      r=[]\n",
        "      for i in range(len(y1)):\n",
        "        if y1[i]!=0:\n",
        "          r.append(1)\n",
        "        else:\n",
        "          r.append(0)\n",
        "      r=np.array(r)\n",
        "      lgrad1 = np.multiply(lgrad1,r.reshape((h,1)))\n",
        "      \n",
        "\n",
        "      weight3=weight3-mom*grad_w3\n",
        "  \n",
        "      grad_w3=np.matmul(np.reshape(np.array(y2),(h,1)),lgrad3.reshape((1,2)))\n",
        "      weight3=weight3-lrate*grad_w3\n",
        "\n",
        "\n",
        "      weight2=weight2-mom*grad_w2\n",
        "      grad_w2=np.matmul(np.array(y1).reshape((h,1)),lgrad2.reshape((1,h)))\n",
        "      weight2=weight2-lrate*grad_w2\n",
        "\n",
        "      weight1=weight1-mom*grad_w1\n",
        "      grad_w1=np.matmul(X_pca[j].reshape((12,1)),lgrad1.reshape((1,h)))\n",
        "      weight1=weight1-lrate*grad_w1\n",
        "\n",
        "      \n",
        "\n",
        "    loss.append(l/20)\n",
        "    print(l/20)\n",
        "   \n",
        "  # accuracy on the test data\n",
        "  accuracy(X_test_pca,y_test,weight1,weight2,weight3,)\n",
        "\n",
        "  return loss\n",
        "\n",
        "      \n",
        "\n",
        " \n",
        "\n",
        "\n",
        "\n"
      ],
      "execution_count": 429,
      "outputs": []
    },
    {
      "cell_type": "markdown",
      "metadata": {
        "id": "guWZDibiyaG2"
      },
      "source": [
        "# **For 10 neurons in hidden layer**"
      ]
    },
    {
      "cell_type": "code",
      "metadata": {
        "colab": {
          "base_uri": "https://localhost:8080/"
        },
        "id": "W0bxmotvA7Sh",
        "outputId": "1372e409-19cc-4c80-c191-7a6b2f3a6284"
      },
      "source": [
        "\n",
        "loss=DNN(12,10,0)\n"
      ],
      "execution_count": 431,
      "outputs": [
        {
          "output_type": "stream",
          "text": [
            "epoch 1 :\n",
            "0.6952511048015477\n",
            "epoch 2 :\n",
            "0.6946225084284493\n",
            "epoch 3 :\n",
            "0.694063571049785\n",
            "epoch 4 :\n",
            "0.6935661844800585\n",
            "epoch 5 :\n",
            "0.6931334246402476\n",
            "epoch 6 :\n",
            "0.6927555170950794\n",
            "epoch 7 :\n",
            "0.6924238392282911\n",
            "epoch 8 :\n",
            "0.6921313798938654\n",
            "epoch 9 :\n",
            "0.6918723952340275\n",
            "epoch 10 :\n",
            "0.6916421467020637\n",
            "epoch 11 :\n",
            "0.6914366997099061\n",
            "epoch 12 :\n",
            "0.6912527674684555\n",
            "epoch 13 :\n",
            "0.6910875888551993\n",
            "epoch 14 :\n",
            "0.6909388321422384\n",
            "epoch 15 :\n",
            "0.6908045185501143\n",
            "epoch 16 :\n",
            "0.6906829611258398\n",
            "epoch 17 :\n",
            "0.690572715557098\n",
            "epoch 18 :\n",
            "0.6904725403512689\n",
            "epoch 19 :\n",
            "0.690381364412409\n",
            "epoch 20 :\n",
            "0.6902982605004777\n",
            "accuracy:0.7\n"
          ],
          "name": "stdout"
        }
      ]
    },
    {
      "cell_type": "code",
      "metadata": {
        "id": "1VsAMkobBFUf",
        "colab": {
          "base_uri": "https://localhost:8080/",
          "height": 282
        },
        "outputId": "3b1bab3c-0978-4885-a9da-4e68a2b9ad91"
      },
      "source": [
        "import matplotlib.pyplot as plt\n",
        "plt.scatter(range(20),loss)"
      ],
      "execution_count": 432,
      "outputs": [
        {
          "output_type": "execute_result",
          "data": {
            "text/plain": [
              "<matplotlib.collections.PathCollection at 0x7fd7be3a0bd0>"
            ]
          },
          "metadata": {
            "tags": []
          },
          "execution_count": 432
        },
        {
          "output_type": "display_data",
          "data": {
            "image/png": "[encoded data removed]",
            "text/plain": [
              "<Figure size 432x288 with 1 Axes>"
            ]
          },
          "metadata": {
            "tags": [],
            "needs_background": "light"
          }
        }
      ]
    },
    {
      "cell_type": "code",
      "metadata": {
        "id": "iQu8Wgh7HJGY"
      },
      "source": [
        ""
      ],
      "execution_count": 393,
      "outputs": []
    },
    {
      "cell_type": "markdown",
      "metadata": {
        "id": "PRZig_aHyhiK"
      },
      "source": [
        "# **for 15 neurons in hidden layer**"
      ]
    },
    {
      "cell_type": "code",
      "metadata": {
        "colab": {
          "base_uri": "https://localhost:8080/"
        },
        "id": "0qJcF4IDym4A",
        "outputId": "f4bd9d95-546e-4022-d3fe-ce1c0389492f"
      },
      "source": [
        "loss=DNN(12,15,0)\n"
      ],
      "execution_count": 433,
      "outputs": [
        {
          "output_type": "stream",
          "text": [
            "epoch 1 :\n",
            "0.6927989580594973\n",
            "epoch 2 :\n",
            "0.6923256004125069\n",
            "epoch 3 :\n",
            "0.6919409849290733\n",
            "epoch 4 :\n",
            "0.6916242122153607\n",
            "epoch 5 :\n",
            "0.6913602277248623\n",
            "epoch 6 :\n",
            "0.6911379714883779\n",
            "epoch 7 :\n",
            "0.6909491748953782\n",
            "epoch 8 :\n",
            "0.6907875590241276\n",
            "epoch 9 :\n",
            "0.6906482888112202\n",
            "epoch 10 :\n",
            "0.6905275941092436\n",
            "epoch 11 :\n",
            "0.6904225019433338\n",
            "epoch 12 :\n",
            "0.6903306443001995\n",
            "epoch 13 :\n",
            "0.6902501181318398\n",
            "epoch 14 :\n",
            "0.6901793820412585\n",
            "epoch 15 :\n",
            "0.6901171791249887\n",
            "epoch 16 :\n",
            "0.6900624787280376\n",
            "epoch 17 :\n",
            "0.6900144320532238\n",
            "epoch 18 :\n",
            "0.6899723380470875\n",
            "epoch 19 :\n",
            "0.6899356170016538\n",
            "epoch 20 :\n",
            "0.6899037900201378\n",
            "accuracy:0.7\n"
          ],
          "name": "stdout"
        }
      ]
    },
    {
      "cell_type": "code",
      "metadata": {
        "colab": {
          "base_uri": "https://localhost:8080/",
          "height": 282
        },
        "id": "uWqAUfixyq4l",
        "outputId": "23d71957-564e-474c-f8f3-1592da6adce6"
      },
      "source": [
        "import matplotlib.pyplot as plt\n",
        "plt.scatter(range(20),loss)"
      ],
      "execution_count": 424,
      "outputs": [
        {
          "output_type": "execute_result",
          "data": {
            "text/plain": [
              "<matplotlib.collections.PathCollection at 0x7fd7be352810>"
            ]
          },
          "metadata": {
            "tags": []
          },
          "execution_count": 424
        },
        {
          "output_type": "display_data",
          "data": {
            "image/png": "[encoded data removed]",
            "text/plain": [
              "<Figure size 432x288 with 1 Axes>"
            ]
          },
          "metadata": {
            "tags": [],
            "needs_background": "light"
          }
        }
      ]
    },
    {
      "cell_type": "markdown",
      "metadata": {
        "id": "P2wfT_tYysDt"
      },
      "source": [
        "# **For momentum =0.9**"
      ]
    },
    {
      "cell_type": "code",
      "metadata": {
        "colab": {
          "base_uri": "https://localhost:8080/"
        },
        "id": "8mkCllwsy56S",
        "outputId": "72ebe40f-685b-4c3e-f50b-9078b364fe96"
      },
      "source": [
        "loss=DNN(12,15,0.9)\n"
      ],
      "execution_count": 437,
      "outputs": [
        {
          "output_type": "stream",
          "text": [
            "epoch 0 :\n",
            "0.6918486501778757\n",
            "epoch 1 :\n",
            "0.6515519290488815\n",
            "epoch 2 :\n",
            "0.6313032325511765\n",
            "epoch 3 :\n",
            "0.610927528896218\n",
            "epoch 4 :\n",
            "0.5709130986426482\n",
            "epoch 5 :\n",
            "0.5507586161762087\n",
            "epoch 6 :\n",
            "0.5406249230548527\n",
            "epoch 7 :\n",
            "0.5405085812204184\n",
            "epoch 8 :\n",
            "0.539068641986508\n",
            "epoch 9 :\n",
            "0.5303175887348917\n",
            "epoch 10 :\n",
            "0.550238991324635\n",
            "epoch 11 :\n",
            "0.5201696365137605\n",
            "epoch 12 :\n",
            "0.5201083480036088\n",
            "epoch 13 :\n",
            "0.510054156344799\n",
            "epoch 14 :\n",
            "0.5000062588496546\n",
            "epoch 15 :\n",
            "0.499963988611727\n",
            "epoch 16 :\n",
            "0.489926790391331\n",
            "epoch 17 :\n",
            "0.486942017360937\n",
            "epoch 18 :\n",
            "0.4798658381386945\n",
            "epoch 19 :\n",
            "0.47413813454349\n",
            "accuracy:0.7\n"
          ],
          "name": "stdout"
        }
      ]
    },
    {
      "cell_type": "markdown",
      "metadata": {
        "id": "RA8rekz71r4s"
      },
      "source": [
        "**yes momentum helps in increasing the rate of training (reducing training loss)**"
      ]
    },
    {
      "cell_type": "code",
      "metadata": {
        "id": "JzlI-1Z40tZh"
      },
      "source": [
        ""
      ],
      "execution_count": 438,
      "outputs": []
    }
  ]
}