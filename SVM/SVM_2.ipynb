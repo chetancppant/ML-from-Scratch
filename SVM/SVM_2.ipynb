{
  "nbformat": 4,
  "nbformat_minor": 0,
  "metadata": {
    "colab": {
      "name": "aSSIGNMENT3_mlsp_Q4.ipynb",
      "provenance": [],
      "collapsed_sections": [],
      "toc_visible": true
    },
    "kernelspec": {
      "name": "python3",
      "display_name": "Python 3"
    },
    "language_info": {
      "name": "python"
    }
  },
  "cells": [
    {
      "cell_type": "code",
      "metadata": {
        "id": "HSJIzo7EvUBC"
      },
      "source": [
        "import numpy as np \n",
        "import pandas as pd\n",
        "import cv2\n",
        "import matplotlib.pyplot as plt \n",
        "import glob\n",
        "\n"
      ],
      "execution_count": null,
      "outputs": []
    },
    {
      "cell_type": "code",
      "metadata": {
        "colab": {
          "base_uri": "https://localhost:8080/"
        },
        "id": "UobA_g7DozIs",
        "outputId": "8c04c44e-f14f-4e94-ae58-e4f8c5b47ec3"
      },
      "source": [
        "from google.colab import drive\n",
        "drive.mount('/content/drive',force_remount=True)"
      ],
      "execution_count": null,
      "outputs": [
        {
          "output_type": "stream",
          "text": [
            "Mounted at /content/drive\n"
          ],
          "name": "stdout"
        }
      ]
    },
    {
      "cell_type": "code",
      "metadata": {
        "id": "iiU_y-_xqK10"
      },
      "source": [
        "files=glob.glob('/content/drive/My Drive/Data/emotion_classification/train/*.gif')"
      ],
      "execution_count": null,
      "outputs": []
    },
    {
      "cell_type": "markdown",
      "metadata": {
        "id": "Gi2pkjxYrThm"
      },
      "source": [
        "# **Reading Train Data**"
      ]
    },
    {
      "cell_type": "code",
      "metadata": {
        "colab": {
          "base_uri": "https://localhost:8080/"
        },
        "id": "u7PJBNBhqT_h",
        "outputId": "766a05f5-dae9-4154-8698-605d615efa78"
      },
      "source": [
        "from PIL import Image\n",
        "i=[]\n",
        "y=[]\n",
        "for file in files:\n",
        "  i.append(np.array(Image.open(file)).flatten())\n",
        "  if file.find(\"sad\")!=-1:\n",
        "    y.append(0)\n",
        "  else:\n",
        "    y.append(1)\n",
        "print(y)\n",
        "x=np.array(i)"
      ],
      "execution_count": null,
      "outputs": [
        {
          "output_type": "stream",
          "text": [
            "[0, 0, 0, 1, 0, 1, 0, 1, 0, 1, 1, 1, 1, 0, 0, 0, 0, 1, 1, 0]\n"
          ],
          "name": "stdout"
        }
      ]
    },
    {
      "cell_type": "code",
      "metadata": {
        "colab": {
          "base_uri": "https://localhost:8080/"
        },
        "id": "I172_H6gs2Qo",
        "outputId": "3cff387a-5c95-41b8-e04f-2e9f385c04b3"
      },
      "source": [
        "x.shape\n"
      ],
      "execution_count": null,
      "outputs": [
        {
          "output_type": "execute_result",
          "data": {
            "text/plain": [
              "(20, 10201)"
            ]
          },
          "metadata": {
            "tags": []
          },
          "execution_count": 47
        }
      ]
    },
    {
      "cell_type": "code",
      "metadata": {
        "id": "vxuA3poJGlS-"
      },
      "source": [
        "K=17"
      ],
      "execution_count": null,
      "outputs": []
    },
    {
      "cell_type": "code",
      "metadata": {
        "id": "oR7YKJDaMTT9"
      },
      "source": [
        "from sklearn.preprocessing import StandardScaler\n",
        "scaler = StandardScaler()\n",
        "scaler.fit(x)\n",
        "x_std=scaler.transform(x)\n"
      ],
      "execution_count": null,
      "outputs": []
    },
    {
      "cell_type": "markdown",
      "metadata": {
        "id": "YoxUw96GdxLj"
      },
      "source": [
        "# **PCA**"
      ]
    },
    {
      "cell_type": "code",
      "metadata": {
        "id": "tgmnqENSqYqB"
      },
      "source": [
        "from sklearn.decomposition import PCA\n",
        "pca=PCA(n_components=K)\n",
        "pca.fit(x_std)\n",
        "\n",
        "X_pca=pca.transform(x_std)"
      ],
      "execution_count": null,
      "outputs": []
    },
    {
      "cell_type": "markdown",
      "metadata": {
        "id": "nT9XQWayu_nz"
      },
      "source": [
        "# **Reading test data**"
      ]
    },
    {
      "cell_type": "code",
      "metadata": {
        "id": "r3sghRKsu8oi"
      },
      "source": [
        "from PIL import Image\n",
        "i_test=[]\n",
        "y_test=[]\n",
        "files=glob.glob('/content/drive/My Drive/Data/emotion_classification/test/*.gif')\n",
        "for file in files:\n",
        "  i_test.append(np.array(Image.open(file)).flatten())\n",
        "  if file.find(\"sad\")!=-1:\n",
        "    y_test.append(0)\n",
        "  else:\n",
        "    y_test.append(1)\n",
        "x_test=np.array(i_test)\n"
      ],
      "execution_count": null,
      "outputs": []
    },
    {
      "cell_type": "code",
      "metadata": {
        "id": "AVLb555gM75X"
      },
      "source": [
        "x_test_std=scaler.transform(x_test)"
      ],
      "execution_count": null,
      "outputs": []
    },
    {
      "cell_type": "code",
      "metadata": {
        "id": "CF9pxCKgvF87"
      },
      "source": [
        "X_test_pca=pca.transform(x_test_std)"
      ],
      "execution_count": null,
      "outputs": []
    },
    {
      "cell_type": "code",
      "metadata": {
        "colab": {
          "base_uri": "https://localhost:8080/"
        },
        "id": "bwx4l9O7vN1l",
        "outputId": "c872a502-b7d3-4371-c498-996e6e1098e6"
      },
      "source": [
        "X_test_pca.shape"
      ],
      "execution_count": null,
      "outputs": [
        {
          "output_type": "execute_result",
          "data": {
            "text/plain": [
              "(10, 17)"
            ]
          },
          "metadata": {
            "tags": []
          },
          "execution_count": 54
        }
      ]
    },
    {
      "cell_type": "markdown",
      "metadata": {
        "id": "rrQjnyHOuQ9k"
      },
      "source": [
        "# **SVM implementation**"
      ]
    },
    {
      "cell_type": "code",
      "metadata": {
        "id": "_C6MSx9QxNCD"
      },
      "source": [
        "c_value=[0.5,1,5,10,50,100,150,200,250,300]\n",
        "epsilon=[0.001,0.002,0.004,0.06,0.008,0.01]"
      ],
      "execution_count": null,
      "outputs": []
    },
    {
      "cell_type": "markdown",
      "metadata": {
        "id": "xVIhh81zjZgZ"
      },
      "source": [
        "# **Linear Kernel**"
      ]
    },
    {
      "cell_type": "code",
      "metadata": {
        "colab": {
          "base_uri": "https://localhost:8080/"
        },
        "id": "moJrCgd5OX84",
        "outputId": "a691da08-54a4-408f-bc47-88e8b363cd62"
      },
      "source": [
        "from sklearn import svm\n",
        "acc=[]\n",
        "for i in c_value:\n",
        "  linear_svm = svm.SVC(C=i,kernel=\"linear\")\n",
        "  linear_svm.fit(X_pca,y)\n",
        "  accuracy=linear_svm.score(X_test_pca,y_test)\n",
        "  print(\"value of C =\",i)\n",
        "  #accuracy on train data\n",
        "  print(\"Linear SVM train accuracy:\",linear_svm.score(X_pca,y))\n",
        "  \n",
        "  #accuracy on test data\n",
        "  print(\"Linear SVM test accuracy:\",linear_svm.score(X_test_pca,y_test))\n",
        "  acc.append(linear_svm.score(X_test_pca,y_test))\n",
        "\n"
      ],
      "execution_count": null,
      "outputs": [
        {
          "output_type": "stream",
          "text": [
            "value of C = 0.5\n",
            "Linear SVM train accuracy: 1.0\n",
            "Linear SVM test accuracy: 0.9\n",
            "value of C = 1\n",
            "Linear SVM train accuracy: 1.0\n",
            "Linear SVM test accuracy: 0.9\n",
            "value of C = 5\n",
            "Linear SVM train accuracy: 1.0\n",
            "Linear SVM test accuracy: 0.9\n",
            "value of C = 10\n",
            "Linear SVM train accuracy: 1.0\n",
            "Linear SVM test accuracy: 0.9\n",
            "value of C = 50\n",
            "Linear SVM train accuracy: 1.0\n",
            "Linear SVM test accuracy: 0.9\n",
            "value of C = 100\n",
            "Linear SVM train accuracy: 1.0\n",
            "Linear SVM test accuracy: 0.9\n",
            "value of C = 150\n",
            "Linear SVM train accuracy: 1.0\n",
            "Linear SVM test accuracy: 0.9\n",
            "value of C = 200\n",
            "Linear SVM train accuracy: 1.0\n",
            "Linear SVM test accuracy: 0.9\n",
            "value of C = 250\n",
            "Linear SVM train accuracy: 1.0\n",
            "Linear SVM test accuracy: 0.9\n",
            "value of C = 300\n",
            "Linear SVM train accuracy: 1.0\n",
            "Linear SVM test accuracy: 0.9\n"
          ],
          "name": "stdout"
        }
      ]
    },
    {
      "cell_type": "code",
      "metadata": {
        "colab": {
          "base_uri": "https://localhost:8080/",
          "height": 295
        },
        "id": "6OcP5bOmZSkg",
        "outputId": "0d661452-46a8-4ef1-d596-1ae2669bb6d0"
      },
      "source": [
        "import matplotlib.pyplot as plt\n",
        "plt.plot(c_value,acc,label=\"value of epsilon=0.001 and K=17\")\n",
        "plt.title(\"change of performance with c\")\n",
        "plt.xlabel('c')\n",
        "plt.ylabel('accuracy')\n",
        "\n",
        "plt.show()"
      ],
      "execution_count": null,
      "outputs": [
        {
          "output_type": "display_data",
          "data": {
            "image/png": "[encoded data removed]",
            "text/plain": [
              "<Figure size 432x288 with 1 Axes>"
            ]
          },
          "metadata": {
            "tags": [],
            "needs_background": "light"
          }
        }
      ]
    },
    {
      "cell_type": "code",
      "metadata": {
        "colab": {
          "base_uri": "https://localhost:8080/"
        },
        "id": "HJNYtwwXhREO",
        "outputId": "470a1fad-eaa2-4fcc-b457-7e5614b1876b"
      },
      "source": [
        "acc1=[]\n",
        "for i in epsilon:\n",
        "  linear_svm = svm.SVC(C=5.0,kernel=\"linear\",tol=i)\n",
        "  linear_svm.fit(X_pca,y)\n",
        "  accuracy=linear_svm.score(X_test_pca,y_test)\n",
        "  print(\"value of epsilon =\",i)\n",
        "  #accuracy on train data\n",
        "  print(\"Linear SVM train accuracy:\",linear_svm.score(X_pca,y))\n",
        "  \n",
        "  #accuracy on test data\n",
        "  print(\"Linear SVM test accuracy:\",linear_svm.score(X_test_pca,y_test))\n",
        "  acc1.append(linear_svm.score(X_test_pca,y_test))\n",
        "\n"
      ],
      "execution_count": null,
      "outputs": [
        {
          "output_type": "stream",
          "text": [
            "value of epsilon = 0.001\n",
            "Linear SVM train accuracy: 1.0\n",
            "Linear SVM test accuracy: 0.9\n",
            "value of epsilon = 0.002\n",
            "Linear SVM train accuracy: 1.0\n",
            "Linear SVM test accuracy: 0.9\n",
            "value of epsilon = 0.004\n",
            "Linear SVM train accuracy: 1.0\n",
            "Linear SVM test accuracy: 0.9\n",
            "value of epsilon = 0.06\n",
            "Linear SVM train accuracy: 1.0\n",
            "Linear SVM test accuracy: 0.9\n",
            "value of epsilon = 0.008\n",
            "Linear SVM train accuracy: 1.0\n",
            "Linear SVM test accuracy: 0.9\n",
            "value of epsilon = 0.01\n",
            "Linear SVM train accuracy: 1.0\n",
            "Linear SVM test accuracy: 0.9\n"
          ],
          "name": "stdout"
        }
      ]
    },
    {
      "cell_type": "code",
      "metadata": {
        "colab": {
          "base_uri": "https://localhost:8080/",
          "height": 295
        },
        "id": "5wtM5JSZhvKs",
        "outputId": "8d6ed11d-ffff-40a5-886f-87d3dd2bb8f4"
      },
      "source": [
        "plt.plot(epsilon,acc1)\n",
        "plt.title(\"change of performance with epsilon\")\n",
        "plt.xlabel('epsilon')\n",
        "plt.ylabel('accuracy')\n",
        "\n",
        "plt.show()"
      ],
      "execution_count": null,
      "outputs": [
        {
          "output_type": "display_data",
          "data": {
            "image/png": "[encoded data removed]",
            "text/plain": [
              "<Figure size 432x288 with 1 Axes>"
            ]
          },
          "metadata": {
            "tags": [],
            "needs_background": "light"
          }
        }
      ]
    },
    {
      "cell_type": "markdown",
      "metadata": {
        "id": "3mg39g2ohNBz"
      },
      "source": [
        "# **Poly Kernel**"
      ]
    },
    {
      "cell_type": "code",
      "metadata": {
        "colab": {
          "base_uri": "https://localhost:8080/"
        },
        "id": "_3p1onjhwdhr",
        "outputId": "f1270c6d-b7bd-47a8-f3fd-c143f3d89aa7"
      },
      "source": [
        "from sklearn import svm\n",
        "acc=[]\n",
        "for i in c_value:\n",
        "  poly_svm = svm.SVC(C=i,kernel=\"poly\")\n",
        "  poly_svm.fit(X_pca,y)\n",
        "  print(\"value of C=\",i)\n",
        "  #accuracy on train data\n",
        "  print(\"poly SVM train accuracy:\",poly_svm.score(X_pca,y))\n",
        "  #accuracy on test data\n",
        "  print(\"poly SVM test accuracy:\",poly_svm.score(X_test_pca,y_test))\n",
        "  acc.append(poly_svm.score(X_test_pca,y_test))\n",
        "\n",
        "\n"
      ],
      "execution_count": null,
      "outputs": [
        {
          "output_type": "stream",
          "text": [
            "value of C= 0.5\n",
            "poly SVM train accuracy: 0.65\n",
            "poly SVM test accuracy: 0.4\n",
            "value of C= 1\n",
            "poly SVM train accuracy: 0.8\n",
            "poly SVM test accuracy: 0.4\n",
            "value of C= 5\n",
            "poly SVM train accuracy: 0.95\n",
            "poly SVM test accuracy: 0.5\n",
            "value of C= 10\n",
            "poly SVM train accuracy: 1.0\n",
            "poly SVM test accuracy: 0.5\n",
            "value of C= 50\n",
            "poly SVM train accuracy: 1.0\n",
            "poly SVM test accuracy: 0.6\n",
            "value of C= 100\n",
            "poly SVM train accuracy: 1.0\n",
            "poly SVM test accuracy: 0.6\n",
            "value of C= 150\n",
            "poly SVM train accuracy: 1.0\n",
            "poly SVM test accuracy: 0.6\n",
            "value of C= 200\n",
            "poly SVM train accuracy: 1.0\n",
            "poly SVM test accuracy: 0.6\n",
            "value of C= 250\n",
            "poly SVM train accuracy: 1.0\n",
            "poly SVM test accuracy: 0.6\n",
            "value of C= 300\n",
            "poly SVM train accuracy: 1.0\n",
            "poly SVM test accuracy: 0.6\n"
          ],
          "name": "stdout"
        }
      ]
    },
    {
      "cell_type": "code",
      "metadata": {
        "colab": {
          "base_uri": "https://localhost:8080/"
        },
        "id": "hdmsJ1VkgLJT",
        "outputId": "87321972-fdd0-494c-fab1-24dcee75b4e1"
      },
      "source": [
        "acc1=[]\n",
        "for i in epsilon:\n",
        "  poly_svm = svm.SVC(C=10,kernel=\"poly\",tol=i)\n",
        "  poly_svm.fit(X_pca,y)\n",
        "  print(\"value of epsilon=\",i)\n",
        "  #accuracy on train data\n",
        "  print(\"poly SVM train accuracy:\",poly_svm.score(X_pca,y))\n",
        "  #accuracy on test data\n",
        "  print(\"poly SVM test accuracy:\",poly_svm.score(X_test_pca,y_test))\n",
        "  acc1.append(poly_svm.score(X_test_pca,y_test))\n"
      ],
      "execution_count": null,
      "outputs": [
        {
          "output_type": "stream",
          "text": [
            "value of epsilon= 0.001\n",
            "poly SVM train accuracy: 1.0\n",
            "poly SVM test accuracy: 0.5\n",
            "value of epsilon= 0.002\n",
            "poly SVM train accuracy: 1.0\n",
            "poly SVM test accuracy: 0.5\n",
            "value of epsilon= 0.004\n",
            "poly SVM train accuracy: 1.0\n",
            "poly SVM test accuracy: 0.5\n",
            "value of epsilon= 0.06\n",
            "poly SVM train accuracy: 1.0\n",
            "poly SVM test accuracy: 0.5\n",
            "value of epsilon= 0.008\n",
            "poly SVM train accuracy: 1.0\n",
            "poly SVM test accuracy: 0.5\n",
            "value of epsilon= 0.01\n",
            "poly SVM train accuracy: 1.0\n",
            "poly SVM test accuracy: 0.5\n"
          ],
          "name": "stdout"
        }
      ]
    },
    {
      "cell_type": "code",
      "metadata": {
        "colab": {
          "base_uri": "https://localhost:8080/",
          "height": 279
        },
        "id": "-DpUTsusarLF",
        "outputId": "2fb6aa1d-babd-4cc0-d889-21db7d9c80ac"
      },
      "source": [
        "import matplotlib.pyplot as plt\n",
        "plt.plot(c_value,acc)\n",
        "plt.xlabel('c')\n",
        "plt.ylabel('accuracy')\n",
        "\n",
        "plt.show()"
      ],
      "execution_count": null,
      "outputs": [
        {
          "output_type": "display_data",
          "data": {
            "image/png": "[encoded data removed]",
            "text/plain": [
              "<Figure size 432x288 with 1 Axes>"
            ]
          },
          "metadata": {
            "tags": [],
            "needs_background": "light"
          }
        }
      ]
    },
    {
      "cell_type": "code",
      "metadata": {
        "colab": {
          "base_uri": "https://localhost:8080/"
        },
        "id": "E8isOgC_a8Bu",
        "outputId": "8fca72b3-de00-4f9e-c52a-42fc2e372225"
      },
      "source": [
        "acc"
      ],
      "execution_count": null,
      "outputs": [
        {
          "output_type": "execute_result",
          "data": {
            "text/plain": [
              "[0.4, 0.3, 0.8, 0.8, 0.8, 0.8, 0.8, 0.8, 0.8, 0.8]"
            ]
          },
          "metadata": {
            "tags": []
          },
          "execution_count": 73
        }
      ]
    },
    {
      "cell_type": "code",
      "metadata": {
        "colab": {
          "base_uri": "https://localhost:8080/",
          "height": 295
        },
        "id": "SU6tEP_fiGDs",
        "outputId": "2938c617-054f-410b-d2cf-b164e7a30f12"
      },
      "source": [
        "plt.plot(epsilon,acc1)\n",
        "plt.title(\"change of performance with epsilon\")\n",
        "plt.xlabel('epsilon')\n",
        "plt.ylabel('accuracy')\n",
        "\n",
        "plt.show()"
      ],
      "execution_count": null,
      "outputs": [
        {
          "output_type": "display_data",
          "data": {
            "image/png": "[encoded data removed]",
            "text/plain": [
              "<Figure size 432x288 with 1 Axes>"
            ]
          },
          "metadata": {
            "tags": [],
            "needs_background": "light"
          }
        }
      ]
    },
    {
      "cell_type": "markdown",
      "metadata": {
        "id": "4uDOU5rRje-J"
      },
      "source": [
        "# **RBF Kernel**"
      ]
    },
    {
      "cell_type": "code",
      "metadata": {
        "colab": {
          "base_uri": "https://localhost:8080/"
        },
        "id": "1qDiCLR1qlya",
        "outputId": "0e75d4e5-658f-4538-c9e6-93c8ae2d8b86"
      },
      "source": [
        "from sklearn import svm\n",
        "acc=[]\n",
        "for i in c_value:\n",
        "  rbf_svm = svm.SVC(C=i,kernel=\"rbf\")\n",
        "  rbf_svm.fit(X_pca,y)\n",
        "  print(\"value of C=\",i)\n",
        "  #accuracy on train data\n",
        "  print(\"rbf SVM train accuracy:\",rbf_svm.score(X_pca,y))\n",
        "\n",
        "  #accuracy on test data\n",
        "  print(\"rbf SVM test accuracy:\",rbf_svm.score(X_test_pca,y_test))\n",
        "  acc.append(rbf_svm.score(X_test_pca,y_test))\n",
        "\n"
      ],
      "execution_count": null,
      "outputs": [
        {
          "output_type": "stream",
          "text": [
            "value of C= 0.5\n",
            "rbf SVM train accuracy: 0.55\n",
            "rbf SVM test accuracy: 0.4\n",
            "value of C= 1\n",
            "rbf SVM train accuracy: 0.95\n",
            "rbf SVM test accuracy: 0.3\n",
            "value of C= 5\n",
            "rbf SVM train accuracy: 1.0\n",
            "rbf SVM test accuracy: 0.8\n",
            "value of C= 10\n",
            "rbf SVM train accuracy: 1.0\n",
            "rbf SVM test accuracy: 0.8\n",
            "value of C= 50\n",
            "rbf SVM train accuracy: 1.0\n",
            "rbf SVM test accuracy: 0.8\n",
            "value of C= 100\n",
            "rbf SVM train accuracy: 1.0\n",
            "rbf SVM test accuracy: 0.8\n",
            "value of C= 150\n",
            "rbf SVM train accuracy: 1.0\n",
            "rbf SVM test accuracy: 0.8\n",
            "value of C= 200\n",
            "rbf SVM train accuracy: 1.0\n",
            "rbf SVM test accuracy: 0.8\n",
            "value of C= 250\n",
            "rbf SVM train accuracy: 1.0\n",
            "rbf SVM test accuracy: 0.8\n",
            "value of C= 300\n",
            "rbf SVM train accuracy: 1.0\n",
            "rbf SVM test accuracy: 0.8\n"
          ],
          "name": "stdout"
        }
      ]
    },
    {
      "cell_type": "code",
      "metadata": {
        "colab": {
          "base_uri": "https://localhost:8080/",
          "height": 295
        },
        "id": "VD23kErObKHd",
        "outputId": "705e05c4-846b-463e-aeaf-04c7026fa8bc"
      },
      "source": [
        "import matplotlib.pyplot as plt\n",
        "plt.plot(c_value,acc)\n",
        "plt.title(\"change of performance with c\")\n",
        "plt.xlabel('c')\n",
        "plt.ylabel('accuracy')\n",
        "\n",
        "plt.show()"
      ],
      "execution_count": null,
      "outputs": [
        {
          "output_type": "display_data",
          "data": {
            "image/png": "[encoded data removed]",
            "text/plain": [
              "<Figure size 432x288 with 1 Axes>"
            ]
          },
          "metadata": {
            "tags": [],
            "needs_background": "light"
          }
        }
      ]
    },
    {
      "cell_type": "code",
      "metadata": {
        "colab": {
          "base_uri": "https://localhost:8080/"
        },
        "id": "d1vptuOeqzhN",
        "outputId": "6ee5deb2-e3f3-48ac-df0c-fda24562f8dd"
      },
      "source": [
        "acc1=[]\n",
        "for i in epsilon:\n",
        "  rbf_svm = svm.SVC(C=5,kernel=\"rbf\",tol=i)\n",
        "  rbf_svm.fit(X_pca,y)\n",
        "  print(\"value of epsilon=\",i)\n",
        "  #accuracy on train data\n",
        "  print(\"rbf SVM train accuracy:\",rbf_svm.score(X_pca,y))\n",
        "\n",
        "  #accuracy on test data\n",
        "  print(\"rbf SVM test accuracy:\",rbf_svm.score(X_test_pca,y_test))\n",
        "  acc1.append(rbf_svm.score(X_test_pca,y_test))\n",
        "\n"
      ],
      "execution_count": null,
      "outputs": [
        {
          "output_type": "stream",
          "text": [
            "value of epsilon= 0.001\n",
            "rbf SVM train accuracy: 1.0\n",
            "rbf SVM test accuracy: 0.8\n",
            "value of epsilon= 0.002\n",
            "rbf SVM train accuracy: 1.0\n",
            "rbf SVM test accuracy: 0.8\n",
            "value of epsilon= 0.004\n",
            "rbf SVM train accuracy: 1.0\n",
            "rbf SVM test accuracy: 0.8\n",
            "value of epsilon= 0.06\n",
            "rbf SVM train accuracy: 1.0\n",
            "rbf SVM test accuracy: 0.8\n",
            "value of epsilon= 0.008\n",
            "rbf SVM train accuracy: 1.0\n",
            "rbf SVM test accuracy: 0.8\n",
            "value of epsilon= 0.01\n",
            "rbf SVM train accuracy: 1.0\n",
            "rbf SVM test accuracy: 0.8\n"
          ],
          "name": "stdout"
        }
      ]
    },
    {
      "cell_type": "code",
      "metadata": {
        "colab": {
          "base_uri": "https://localhost:8080/",
          "height": 295
        },
        "id": "qhObayoRiq0-",
        "outputId": "f2beb8ae-1722-45ab-ab9c-ab810a8e92eb"
      },
      "source": [
        "plt.plot(epsilon,acc1)\n",
        "plt.title(\"change of performance with epsilon\")\n",
        "plt.xlabel('epsilon')\n",
        "plt.ylabel('accuracy')\n",
        "\n",
        "plt.show()"
      ],
      "execution_count": null,
      "outputs": [
        {
          "output_type": "display_data",
          "data": {
            "image/png": "[encoded data removed]",
            "text/plain": [
              "<Figure size 432x288 with 1 Axes>"
            ]
          },
          "metadata": {
            "tags": [],
            "needs_background": "light"
          }
        }
      ]
    },
    {
      "cell_type": "markdown",
      "metadata": {
        "id": "TwKnOGadyd73"
      },
      "source": [
        "# **LDA**"
      ]
    },
    {
      "cell_type": "code",
      "metadata": {
        "colab": {
          "base_uri": "https://localhost:8080/"
        },
        "id": "H0913colydKN",
        "outputId": "73b31b49-6e6e-4a94-cc73-17e737388560"
      },
      "source": [
        "from sklearn.discriminant_analysis import LinearDiscriminantAnalysis\n",
        "LDA= LinearDiscriminantAnalysis()\n",
        "LDA.fit(X_pca, y)\n",
        "\n",
        "#accuracy on train data\n",
        "print(\"LDA train accuracy:\",LDA.score(X_pca,y))\n",
        "\n",
        "#accuracy on test data\n",
        "print(\"LDA test accuracy:\",LDA.score(X_test_pca,y_test))\n"
      ],
      "execution_count": null,
      "outputs": [
        {
          "output_type": "stream",
          "text": [
            "LDA train accuracy: 1.0\n",
            "LDA test accuracy: 1.0\n"
          ],
          "name": "stdout"
        }
      ]
    },
    {
      "cell_type": "code",
      "metadata": {
        "id": "GJqwe_KxzOs_"
      },
      "source": [
        ""
      ],
      "execution_count": null,
      "outputs": []
    },
    {
      "cell_type": "markdown",
      "metadata": {
        "id": "I42Fx1otj11z"
      },
      "source": [
        "# **Dependence on K value**"
      ]
    },
    {
      "cell_type": "code",
      "metadata": {
        "id": "IFVAxt_dj5So"
      },
      "source": [
        "K=[2,4,6,8,10,12,14,16,18,20]"
      ],
      "execution_count": null,
      "outputs": []
    },
    {
      "cell_type": "code",
      "metadata": {
        "id": "QjInRkA_kDXW"
      },
      "source": [
        "acc_L=[]\n",
        "acc_P=[]\n",
        "acc_R=[]\n",
        "for i in K:\n",
        "  pca=PCA(n_components=i)\n",
        "  pca.fit(x_std)\n",
        "  X_pca=pca.transform(x_std)\n",
        "  X_test_pca=pca.transform(x_test_std)\n",
        "\n",
        "  #linear\n",
        "  linear_svm = svm.SVC(C=5,kernel=\"linear\",tol=i)\n",
        "  linear_svm.fit(X_pca,y)\n",
        "  acc_L.append(linear_svm.score(X_test_pca,y_test))\n",
        "\n",
        "  #poly\n",
        "\n",
        "  poly_svm = svm.SVC(C=5,kernel=\"poly\",tol=0.001)\n",
        "  poly_svm.fit(X_pca,y)\n",
        "  acc_P.append(poly_svm.score(X_test_pca,y_test))\n",
        "\n",
        "  #RBF\n",
        "  rbf_svm = svm.SVC(C=5,kernel=\"rbf\",tol=0.001)\n",
        "  rbf_svm.fit(X_pca,y)\n",
        "  acc_R.append(rbf_svm.score(X_test_pca,y_test))\n",
        "\n",
        "\n",
        "\n",
        "\n",
        "\n",
        "\n",
        "\n"
      ],
      "execution_count": null,
      "outputs": []
    },
    {
      "cell_type": "code",
      "metadata": {
        "colab": {
          "base_uri": "https://localhost:8080/",
          "height": 295
        },
        "id": "MJ-0_bVElfY-",
        "outputId": "c761fbc9-99d7-491d-9252-c698d522048f"
      },
      "source": [
        "plt.plot(K,acc_L)\n",
        "plt.title(\"change of performance with K\")\n",
        "plt.xlabel('K')\n",
        "plt.ylabel('accuracy')\n",
        "\n",
        "plt.show()"
      ],
      "execution_count": null,
      "outputs": [
        {
          "output_type": "display_data",
          "data": {
            "image/png": "[encoded data removed]",
            "text/plain": [
              "<Figure size 432x288 with 1 Axes>"
            ]
          },
          "metadata": {
            "tags": [],
            "needs_background": "light"
          }
        }
      ]
    },
    {
      "cell_type": "code",
      "metadata": {
        "colab": {
          "base_uri": "https://localhost:8080/",
          "height": 295
        },
        "id": "7Ld8LeO8mBjU",
        "outputId": "13b1b5ba-85e2-43e2-91ce-8237cfcc97f7"
      },
      "source": [
        "plt.plot(K,acc_P)\n",
        "plt.title(\"change of performance with K\")\n",
        "plt.xlabel('K')\n",
        "plt.ylabel('accuracy')\n",
        "\n",
        "plt.show()"
      ],
      "execution_count": null,
      "outputs": [
        {
          "output_type": "display_data",
          "data": {
            "image/png": "[encoded data removed]",
            "text/plain": [
              "<Figure size 432x288 with 1 Axes>"
            ]
          },
          "metadata": {
            "tags": [],
            "needs_background": "light"
          }
        }
      ]
    },
    {
      "cell_type": "code",
      "metadata": {
        "colab": {
          "base_uri": "https://localhost:8080/",
          "height": 295
        },
        "id": "G0Endw4_mFE7",
        "outputId": "aec94bff-1cf7-4085-ad79-c0199e82499f"
      },
      "source": [
        "plt.plot(K,acc_R)\n",
        "plt.title(\"change of performance with K\")\n",
        "plt.xlabel('K')\n",
        "plt.ylabel('accuracy')\n",
        "\n",
        "plt.show()"
      ],
      "execution_count": null,
      "outputs": [
        {
          "output_type": "display_data",
          "data": {
            "image/png": "[encoded data removed]",
            "text/plain": [
              "<Figure size 432x288 with 1 Axes>"
            ]
          },
          "metadata": {
            "tags": [],
            "needs_background": "light"
          }
        }
      ]
    },
    {
      "cell_type": "code",
      "metadata": {
        "id": "y5hSINcEmH4s"
      },
      "source": [
        ""
      ],
      "execution_count": null,
      "outputs": []
    },
    {
      "cell_type": "markdown",
      "metadata": {
        "id": "hBXJ29VHI8L8"
      },
      "source": [
        "# **question 4 part b**"
      ]
    },
    {
      "cell_type": "markdown",
      "metadata": {
        "id": "unBXZNI7JCs1"
      },
      "source": [
        "In SVM classifier ,we find the hyperplane seperating the two classes such that the marging of classifier is maximum.margin is defined as the distance of the closest point to the hyperplane.only the data points which lies on support line will affect the decison boundary.\n",
        "\n",
        "In LDA classifier,LDA is Similiar to PCA but it accounts the classes also.LDA assumes that the class conditional probability distribution are normal(Gausian) distribution.\n",
        "\n",
        "SVM works generally better than LDA Classifier."
      ]
    },
    {
      "cell_type": "code",
      "metadata": {
        "id": "iIHGISvPJAWJ"
      },
      "source": [
        ""
      ],
      "execution_count": null,
      "outputs": []
    }
  ]
}