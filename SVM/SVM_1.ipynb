{
  "nbformat": 4,
  "nbformat_minor": 0,
  "metadata": {
    "colab": {
      "name": "assignment3_mlsp_Q5.ipynb",
      "provenance": [],
      "collapsed_sections": []
    },
    "kernelspec": {
      "name": "python3",
      "display_name": "Python 3"
    },
    "language_info": {
      "name": "python"
    }
  },
  "cells": [
    {
      "cell_type": "code",
      "metadata": {
        "colab": {
          "base_uri": "https://localhost:8080/"
        },
        "id": "VVJC1gSXCwcU",
        "outputId": "6a7930b1-5df0-4de0-9b42-cf93079bbc75"
      },
      "source": [
        "from google.colab import drive\n",
        "drive.mount('/content/drive')\n"
      ],
      "execution_count": 1,
      "outputs": [
        {
          "output_type": "stream",
          "text": [
            "Mounted at /content/drive\n"
          ],
          "name": "stdout"
        }
      ]
    },
    {
      "cell_type": "code",
      "metadata": {
        "id": "J5n7DLnvRu0T"
      },
      "source": [
        "f=open('/content/drive/My Drive/file.txt')"
      ],
      "execution_count": 2,
      "outputs": []
    },
    {
      "cell_type": "code",
      "metadata": {
        "colab": {
          "base_uri": "https://localhost:8080/"
        },
        "id": "v8Y5i-9u7kEY",
        "outputId": "ab4b73df-335a-4ec3-9a12-67472c73fc33"
      },
      "source": [
        "import nltk\n",
        "nltk.download('stopwords')"
      ],
      "execution_count": 3,
      "outputs": [
        {
          "output_type": "stream",
          "text": [
            "[nltk_data] Downloading package stopwords to /root/nltk_data...\n",
            "[nltk_data]   Unzipping corpora/stopwords.zip.\n"
          ],
          "name": "stdout"
        },
        {
          "output_type": "execute_result",
          "data": {
            "text/plain": [
              "True"
            ]
          },
          "metadata": {
            "tags": []
          },
          "execution_count": 3
        }
      ]
    },
    {
      "cell_type": "code",
      "metadata": {
        "id": "2r9WpVFF1P3G"
      },
      "source": [
        "from nltk.corpus import stopwords\n",
        "stop_words = set(stopwords.words('english'))"
      ],
      "execution_count": 4,
      "outputs": []
    },
    {
      "cell_type": "code",
      "metadata": {
        "id": "HmqPeabyR6ZJ"
      },
      "source": [
        "x=[]\n",
        "y=[]\n",
        "bad_chars = [';', ':', '!', \"*\",\"@\",\"#\",\"$\",\"%\",\"^\",\"&\",\"-\",\"(\",\")\",\"_\",\",\",\".\",\"?\"] \n",
        "for l in f:\n",
        "  for k in bad_chars:\n",
        "    l.replace(k,\" \")\n",
        "  t1=l.split()\n",
        "  y.append(int(t1.pop()))\n",
        "  t=[]\n",
        "  for word in t1:\n",
        "    if word not in stop_words:\n",
        "      t.append(word)\n",
        "  \n",
        "  x.append(t)\n",
        "  \n",
        "for i in range(len(x)):\n",
        "  for j in range(len(x[i])):\n",
        "    x[i][j]=x[i][j].lower()"
      ],
      "execution_count": 5,
      "outputs": []
    },
    {
      "cell_type": "markdown",
      "metadata": {
        "id": "pvuaVeLwfHCR"
      },
      "source": [
        "# **Finding vocab from overall data**"
      ]
    },
    {
      "cell_type": "code",
      "metadata": {
        "colab": {
          "base_uri": "https://localhost:8080/"
        },
        "id": "Uw7NeS-UWQHD",
        "outputId": "f26ff4e6-c7fa-44cd-c2e8-9f40974eb156"
      },
      "source": [
        "unique=[]\n",
        "for i in range(len(x)):\n",
        "  unique=set(unique).union(set(x[i]))\n",
        "print(len(unique))\n"
      ],
      "execution_count": 6,
      "outputs": [
        {
          "output_type": "stream",
          "text": [
            "3158\n"
          ],
          "name": "stdout"
        }
      ]
    },
    {
      "cell_type": "markdown",
      "metadata": {
        "id": "z5nE021rfPl5"
      },
      "source": [
        "# **Splitting data into training and testing**"
      ]
    },
    {
      "cell_type": "code",
      "metadata": {
        "id": "lQ-sr4WESIeW"
      },
      "source": [
        "x_train=[]\n",
        "x_test=[]\n",
        "y_train=[]\n",
        "y_test=[]\n",
        "for i in range(len(x)):\n",
        "  if(i<750):\n",
        "    x_train.append(x[i])\n",
        "    y_train.append(y[i])\n",
        "  else:\n",
        "    x_test.append(x[i])\n",
        "    y_test.append(y[i])\n"
      ],
      "execution_count": 7,
      "outputs": []
    },
    {
      "cell_type": "code",
      "metadata": {
        "colab": {
          "base_uri": "https://localhost:8080/"
        },
        "id": "q6CSZKVuV1_i",
        "outputId": "fbbcdc5e-7322-45ba-f3b8-462d85d08393"
      },
      "source": [
        "len(x_test)"
      ],
      "execution_count": 8,
      "outputs": [
        {
          "output_type": "execute_result",
          "data": {
            "text/plain": [
              "250"
            ]
          },
          "metadata": {
            "tags": []
          },
          "execution_count": 8
        }
      ]
    },
    {
      "cell_type": "code",
      "metadata": {
        "id": "8ERHsWsoV4p5"
      },
      "source": [
        "train=[]\n",
        "for i in range(len(x_train)):\n",
        "  d=dict.fromkeys(unique, 0) \n",
        "  for words in x_train[i]:\n",
        "    d[words]+=1\n",
        "  train.append(d)\n",
        "  "
      ],
      "execution_count": 9,
      "outputs": []
    },
    {
      "cell_type": "code",
      "metadata": {
        "id": "ObfxeY6zblzU"
      },
      "source": [
        "test=[]\n",
        "for i in range(len(x_test)):\n",
        "  d=dict.fromkeys(unique, 0) \n",
        "  for words in x_test[i]:\n",
        "    d[words]+=1\n",
        "  test.append(d)"
      ],
      "execution_count": 10,
      "outputs": []
    },
    {
      "cell_type": "markdown",
      "metadata": {
        "id": "bpWWykV3dN7D"
      },
      "source": [
        "# **function for calculation IDF**"
      ]
    },
    {
      "cell_type": "code",
      "metadata": {
        "id": "jSmS93DPXQgX"
      },
      "source": [
        "import math\n",
        "def computeIDF(L,unique):\n",
        "  idf = dict.fromkeys(unique, 0)\n",
        "  for i in range(len(L)):\n",
        "    for word in L[i].keys():\n",
        "      if  L[i][word]>0:\n",
        "        idf[word]+=1\n",
        "  N=len(L)\n",
        "  for key in idf.keys():\n",
        "    idf[key]=math.log10(N / float(idf[key]+1))\n",
        "  return idf"
      ],
      "execution_count": 11,
      "outputs": []
    },
    {
      "cell_type": "markdown",
      "metadata": {
        "id": "rGBry914f6CP"
      },
      "source": [
        "# **Computing IDF from test data**"
      ]
    },
    {
      "cell_type": "code",
      "metadata": {
        "id": "ezoZo3-sZNgv"
      },
      "source": [
        "idf=computeIDF(train,unique)"
      ],
      "execution_count": 12,
      "outputs": []
    },
    {
      "cell_type": "markdown",
      "metadata": {
        "id": "bmWeOI4YdShi"
      },
      "source": [
        "# **Function for calculating TFIDF**"
      ]
    },
    {
      "cell_type": "code",
      "metadata": {
        "id": "C58frkFIZUsm"
      },
      "source": [
        "def computeTFIDF(L,IDF):\n",
        "  for i in range(len(L)):\n",
        "    for words in L[i].keys():\n",
        "      L[i][words]=L[i][words]/len(x[i])*IDF[words]\n",
        "  return L\n"
      ],
      "execution_count": 13,
      "outputs": []
    },
    {
      "cell_type": "markdown",
      "metadata": {
        "id": "yjLu2M82ddMi"
      },
      "source": [
        "# **TFIDF for test and train**"
      ]
    },
    {
      "cell_type": "code",
      "metadata": {
        "id": "UZzpxDeNbzOP"
      },
      "source": [
        "tfidf_train=computeTFIDF(train,idf)     \n",
        "tfidf_test=computeTFIDF(test,idf)"
      ],
      "execution_count": 14,
      "outputs": []
    },
    {
      "cell_type": "code",
      "metadata": {
        "colab": {
          "base_uri": "https://localhost:8080/"
        },
        "id": "AHqn6YQackFg",
        "outputId": "33a8c4cc-05bb-40eb-d09e-10c8a4218f5f"
      },
      "source": [
        "len(tfidf_train)"
      ],
      "execution_count": 15,
      "outputs": [
        {
          "output_type": "execute_result",
          "data": {
            "text/plain": [
              "750"
            ]
          },
          "metadata": {
            "tags": []
          },
          "execution_count": 15
        }
      ]
    },
    {
      "cell_type": "code",
      "metadata": {
        "id": "LYhYUxbWdFVR"
      },
      "source": [
        "import pandas as pd\n",
        "df_train=pd.DataFrame(tfidf_train)\n",
        "df_test=pd.DataFrame(tfidf_test)\n"
      ],
      "execution_count": 16,
      "outputs": []
    },
    {
      "cell_type": "markdown",
      "metadata": {
        "id": "pmIoKw8Rd7Bp"
      },
      "source": [
        "# **PCA**"
      ]
    },
    {
      "cell_type": "code",
      "metadata": {
        "id": "sEIYkcjYeCgh"
      },
      "source": [
        "from sklearn.decomposition import PCA\n",
        "pca=PCA(n_components=10)\n",
        "pca.fit(df_train)\n",
        "#pca on train\n",
        "pca_train=pca.transform(df_train)\n",
        "\n",
        "#pca on test \n",
        "pca_test=pca.transform(df_test)"
      ],
      "execution_count": 17,
      "outputs": []
    },
    {
      "cell_type": "code",
      "metadata": {
        "colab": {
          "base_uri": "https://localhost:8080/"
        },
        "id": "If1xLpTzeMPu",
        "outputId": "074c02a2-5a12-45af-8729-a039127167aa"
      },
      "source": [
        "pca_train.shape\n",
        "print(len(y_train))"
      ],
      "execution_count": 18,
      "outputs": [
        {
          "output_type": "stream",
          "text": [
            "750\n"
          ],
          "name": "stdout"
        }
      ]
    },
    {
      "cell_type": "markdown",
      "metadata": {
        "id": "Cs9xOv-mfX31"
      },
      "source": [
        "# **SVM implementation**"
      ]
    },
    {
      "cell_type": "code",
      "metadata": {
        "colab": {
          "base_uri": "https://localhost:8080/"
        },
        "id": "t8QtYA9xtZli",
        "outputId": "e042ceba-31a7-461e-8731-0c53658b7068"
      },
      "source": [
        "#LINEAR KERNEL\n",
        "from sklearn import svm\n",
        "linear_svm = svm.SVC(C=500,kernel=\"linear\")\n",
        "linear_svm.fit(pca_train,y_train)\n",
        "\n",
        "#accuracy on train data\n",
        "print(\"Linear SVM train accuracy:\",linear_svm.score(pca_train,y_train))\n",
        "\n",
        "#accuracy on test data\n",
        "print(\"Linear SVM train accuracy:\",linear_svm.score(pca_test,y_test))\n",
        "\n",
        "#number of Support Vector\n",
        "print(\"Number of SV:\",linear_svm.support_vectors_.shape[0])\n"
      ],
      "execution_count": 19,
      "outputs": [
        {
          "output_type": "stream",
          "text": [
            "Linear SVM train accuracy: 0.6186666666666667\n",
            "Linear SVM train accuracy: 0.496\n",
            "Number of SV: 637\n"
          ],
          "name": "stdout"
        }
      ]
    },
    {
      "cell_type": "code",
      "metadata": {
        "colab": {
          "base_uri": "https://localhost:8080/"
        },
        "id": "TWB6yKX9tsO4",
        "outputId": "1397d724-0fe3-4ac1-b390-d36715f13900"
      },
      "source": [
        "#POLY KERNEL\n",
        "from sklearn import svm\n",
        "poly_svm = svm.SVC(C=500,kernel=\"poly\")\n",
        "poly_svm.fit(pca_train,y_train)\n",
        "\n",
        "#accuracy on train data\n",
        "print(\"poly SVM train accuracy:\",poly_svm.score(pca_train,y_train))\n",
        "\n",
        "#accuracy on test data\n",
        "print(\"poly SVM train accuracy:\",poly_svm.score(pca_test,y_test))\n",
        "\n",
        "#number of Support Vector\n",
        "print(\"Number of SV:\",poly_svm.support_vectors_.shape[0])\n"
      ],
      "execution_count": 20,
      "outputs": [
        {
          "output_type": "stream",
          "text": [
            "poly SVM train accuracy: 0.5853333333333334\n",
            "poly SVM train accuracy: 0.408\n",
            "Number of SV: 665\n"
          ],
          "name": "stdout"
        }
      ]
    },
    {
      "cell_type": "code",
      "metadata": {
        "colab": {
          "base_uri": "https://localhost:8080/"
        },
        "id": "3mGlt6Abw5Dr",
        "outputId": "cc05b616-82a4-45c8-ffbc-d12420c3c4e0"
      },
      "source": [
        "#RBF KERNEL\n",
        "from sklearn import svm\n",
        "rbf_svm = svm.SVC(C=500,kernel=\"rbf\")\n",
        "rbf_svm.fit(pca_train,y_train)\n",
        "#accuracy on train data\n",
        "print(\"rbf SVM train accuracy:\",rbf_svm.score(pca_train,y_train))\n",
        "\n",
        "#accuracy on test data\n",
        "print(\"rbf SVM test accuracy:\",rbf_svm.score(pca_test,y_test))\n",
        "\n",
        "#number of Support Vector\n",
        "print(\"Number of SV:\",rbf_svm.support_vectors_.shape[0])\n",
        "\n",
        "\n",
        "\n"
      ],
      "execution_count": 22,
      "outputs": [
        {
          "output_type": "stream",
          "text": [
            "rbf SVM train accuracy: 0.66\n",
            "rbf SVM test accuracy: 0.464\n",
            "Number of SV: 597\n"
          ],
          "name": "stdout"
        }
      ]
    },
    {
      "cell_type": "code",
      "metadata": {
        "id": "8XYGkqlEJ04I"
      },
      "source": [
        ""
      ],
      "execution_count": null,
      "outputs": []
    }
  ]
}