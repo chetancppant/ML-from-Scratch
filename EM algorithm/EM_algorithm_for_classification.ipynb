{
  "nbformat": 4,
  "nbformat_minor": 0,
  "metadata": {
    "colab": {
      "name": "MLSP_Q3_part2.ipynb",
      "provenance": []
    },
    "kernelspec": {
      "name": "python3",
      "display_name": "Python 3"
    },
    "language_info": {
      "name": "python"
    }
  },
  "cells": [
    {
      "cell_type": "code",
      "metadata": {
        "colab": {
          "base_uri": "https://localhost:8080/"
        },
        "id": "8B-JREXwLWQ9",
        "outputId": "81299a25-7d8a-4ce9-8219-82975337b210"
      },
      "source": [
        "from google.colab import drive\n",
        "drive.mount('/content/drive')"
      ],
      "execution_count": 44,
      "outputs": [
        {
          "output_type": "stream",
          "text": [
            "Drive already mounted at /content/drive; to attempt to forcibly remount, call drive.mount(\"/content/drive\", force_remount=True).\n"
          ],
          "name": "stdout"
        }
      ]
    },
    {
      "cell_type": "code",
      "metadata": {
        "id": "kBopfTF-Lg-6"
      },
      "source": [
        "import numpy as np \n",
        "import pandas as pd\n",
        "import matplotlib.pyplot as plt \n",
        "from scipy.io import wavfile\n",
        "import glob"
      ],
      "execution_count": 45,
      "outputs": []
    },
    {
      "cell_type": "code",
      "metadata": {
        "id": "2ztKBNI7LriG"
      },
      "source": [
        "def load_data(f1):\n",
        "  w_size=25\n",
        "  shift=10\n",
        "  freq=16\n",
        "  data = np.empty((0,w_size*freq))\n",
        "  for i in range(len(f1)):\n",
        "    sample,read_music=wavfile.read(f1[i])\n",
        "    new_data=[]\n",
        "    sample_ws=w_size*freq\n",
        "    sample_shift=shift*freq\n",
        "    index=0\n",
        "    while (index + sample_ws - 1) <= read_music.shape[0]:\n",
        "      t = []\n",
        "      s=index\n",
        "      f=index+sample_ws\n",
        "      for j in range(s,f):\n",
        "        t.append(read_music[j])\n",
        "      new_data.append(t)\n",
        "      index = index + sample_shift\n",
        "    data=np.concatenate((data,np.array(new_data)),axis=0)\n",
        "  return data\n",
        "    \n",
        "    \n",
        "\n"
      ],
      "execution_count": 46,
      "outputs": []
    },
    {
      "cell_type": "code",
      "metadata": {
        "id": "k2Zh3IhOLvVK"
      },
      "source": [
        "f1 = glob.glob(\"/content/drive/My Drive/speech_music_classification/train/music/*.wav\")\n",
        "f2=glob.glob(\"/content/drive/My Drive/speech_music_classification/train/speech/*.wav\")\n",
        "music_data=load_data(f1)\n",
        "speech_data=load_data(f2)"
      ],
      "execution_count": 47,
      "outputs": []
    },
    {
      "cell_type": "code",
      "metadata": {
        "colab": {
          "base_uri": "https://localhost:8080/"
        },
        "id": "9Xt1AO43T66L",
        "outputId": "a292af35-882a-41f2-a86f-6195799de046"
      },
      "source": [
        "speech_data.shape"
      ],
      "execution_count": 48,
      "outputs": [
        {
          "output_type": "execute_result",
          "data": {
            "text/plain": [
              "(119920, 400)"
            ]
          },
          "metadata": {
            "tags": []
          },
          "execution_count": 48
        }
      ]
    },
    {
      "cell_type": "code",
      "metadata": {
        "id": "R01NP5AUT7ms"
      },
      "source": [
        ""
      ],
      "execution_count": 48,
      "outputs": []
    },
    {
      "cell_type": "code",
      "metadata": {
        "colab": {
          "base_uri": "https://localhost:8080/"
        },
        "id": "1cuDyxBbL24G",
        "outputId": "4abe82f9-d605-43c4-882d-a1d4b431b53e"
      },
      "source": [
        "import scipy\n",
        "from scipy.fft import fft\n",
        "#fft on music data\n",
        "music_fft = scipy.fft.fft(music_data, n=64, axis=- 1)\n",
        "music_fft=np.delete(music_fft,np.s_[32:],axis=1)\n",
        "music=np.log(np.absolute(music_fft))\n",
        "music.shape"
      ],
      "execution_count": 51,
      "outputs": [
        {
          "output_type": "execute_result",
          "data": {
            "text/plain": [
              "(119920, 32)"
            ]
          },
          "metadata": {
            "tags": []
          },
          "execution_count": 51
        }
      ]
    },
    {
      "cell_type": "code",
      "metadata": {
        "colab": {
          "base_uri": "https://localhost:8080/"
        },
        "id": "YFK5zEr6RLfE",
        "outputId": "0c2c9335-921e-4847-8376-a47331e5cc60"
      },
      "source": [
        "#fft on speech data\n",
        "speech_fft = scipy.fft.fft(speech_data, n=64, axis=- 1)\n",
        "speech_fft=np.delete(speech_fft,np.s_[32:],axis=1)\n",
        "speech_fft = np.where(speech_fft > 0.0000000001, speech_fft, 10)\n",
        "speech=np.log(np.absolute(speech_fft))\n",
        "speech.shape"
      ],
      "execution_count": 52,
      "outputs": [
        {
          "output_type": "execute_result",
          "data": {
            "text/plain": [
              "(119920, 32)"
            ]
          },
          "metadata": {
            "tags": []
          },
          "execution_count": 52
        }
      ]
    },
    {
      "cell_type": "code",
      "metadata": {
        "id": "tM677MW4MFK-"
      },
      "source": [
        ""
      ],
      "execution_count": null,
      "outputs": []
    },
    {
      "cell_type": "code",
      "metadata": {
        "id": "WiDCjS8IMGPC"
      },
      "source": [
        ""
      ],
      "execution_count": null,
      "outputs": []
    },
    {
      "cell_type": "markdown",
      "metadata": {
        "id": "Hb90HDlZMRAx"
      },
      "source": [
        "# **Initialialising EM using K means**"
      ]
    },
    {
      "cell_type": "code",
      "metadata": {
        "id": "V9HWIqD_MVip"
      },
      "source": [
        "from sklearn.cluster import KMeans\n",
        "import numpy as np\n",
        "\n",
        "# Initilization EM for music data\n",
        "km = KMeans(\n",
        "    n_clusters=2, init='random',\n",
        "    n_init=10, max_iter=300, \n",
        "    tol=1e-04, random_state=0\n",
        ")\n",
        "y_km = km.fit_predict(music)"
      ],
      "execution_count": 53,
      "outputs": []
    },
    {
      "cell_type": "code",
      "metadata": {
        "id": "mYc39TBJMain"
      },
      "source": [
        "\n",
        "c0=[]\n",
        "c1=[]\n",
        "for i in range(len(y_km)):\n",
        "  if(y_km[i]==0):\n",
        "    c0.append(music[i])\n",
        "  else:\n",
        "    c1.append(music[i])\n"
      ],
      "execution_count": 54,
      "outputs": []
    },
    {
      "cell_type": "code",
      "metadata": {
        "colab": {
          "base_uri": "https://localhost:8080/"
        },
        "id": "LNLqWy44MknR",
        "outputId": "f04098ff-7247-4563-ea87-6d78f349e93f"
      },
      "source": [
        "len(c1)"
      ],
      "execution_count": 55,
      "outputs": [
        {
          "output_type": "execute_result",
          "data": {
            "text/plain": [
              "47205"
            ]
          },
          "metadata": {
            "tags": []
          },
          "execution_count": 55
        }
      ]
    },
    {
      "cell_type": "code",
      "metadata": {
        "id": "UBvbO1L1M4AU"
      },
      "source": [
        "import numpy as np\n",
        "#initial alphas (music)\n",
        "alpha1=len(c0)/1000\n",
        "alpha2=len(c1)/1000\n",
        "\n",
        "#initial means (music)\n",
        "mean1=np.mean(np.array(c0),axis=0)\n",
        "mean2=np.mean(np.array(c1),axis=0)\n",
        "\n",
        "#initial varience (music)\n",
        "var1=np.cov(np.array(c0).T)\n",
        "var2=np.cov(np.array(c1).T)"
      ],
      "execution_count": 56,
      "outputs": []
    },
    {
      "cell_type": "code",
      "metadata": {
        "id": "B5qs8s0GNdp_"
      },
      "source": [
        "from scipy.stats import multivariate_normal"
      ],
      "execution_count": 57,
      "outputs": []
    },
    {
      "cell_type": "code",
      "metadata": {
        "id": "PL2FlPUaNgG9"
      },
      "source": [
        "#initializing EM for speech data\n",
        "km = KMeans(\n",
        "    n_clusters=2, init='random',\n",
        "    n_init=10, max_iter=300, \n",
        "    tol=1e-04, random_state=0\n",
        ")\n",
        "y_km_speech = km.fit_predict(speech)\n",
        "\n",
        "alpha1_speech=0\n",
        "alpha2_speech=1\n",
        "c0_s=[]\n",
        "c1_s=[]\n",
        "for i in range(len(y_km)):\n",
        "  if(y_km_speech[i]==0):\n",
        "    c0_s.append(music[i])\n",
        "  else:\n",
        "    c1_s.append(music[i])\n",
        "\n",
        "#initial alphas (speech)\n",
        "alpha1_s=len(c0)/1000\n",
        "alpha2_s=len(c1)/1000\n",
        "\n",
        "#initial means (speech)\n",
        "mean1_s=np.mean(np.array(c0_s),axis=0)\n",
        "mean2_s=np.mean(np.array(c1_s),axis=0)\n",
        "\n",
        "#initial varience (speech) diagonal covarience\n",
        "var1_s=np.diag(np.diag(np.cov(np.array(c0_s).T)))\n",
        "var2_s=np.diag(np.diag(np.cov(np.array(c1_s).T)))\n"
      ],
      "execution_count": 58,
      "outputs": []
    },
    {
      "cell_type": "markdown",
      "metadata": {
        "id": "e-FSxw5mNrPl"
      },
      "source": [
        "# **function for log_likelihood**"
      ]
    },
    {
      "cell_type": "code",
      "metadata": {
        "id": "ze51I_c3NyX6"
      },
      "source": [
        "def computeLikeli(likl1,likl2):\n",
        "  m=np.add(likl1,likl2)\n",
        "  m=np.where(m>0,m,1)\n",
        "  log_likl=np.log10(m)\n",
        "  T_likl=np.sum(log_likl)\n",
        "  return T_likl\n",
        "  "
      ],
      "execution_count": 59,
      "outputs": []
    },
    {
      "cell_type": "code",
      "metadata": {
        "id": "MxoCz-8RN_No"
      },
      "source": [
        ""
      ],
      "execution_count": 59,
      "outputs": []
    },
    {
      "cell_type": "markdown",
      "metadata": {
        "id": "GDwhUEjcODeR"
      },
      "source": [
        "# **function EM iteration**"
      ]
    },
    {
      "cell_type": "code",
      "metadata": {
        "id": "OaAWaOq4OHKJ"
      },
      "source": [
        "def ComputeEM(alpha1,alpha2,mean1,mean2,var1,var2,new,N,l):\n",
        "\n",
        "  #E step\n",
        "  distribution1 = multivariate_normal(mean=mean1, cov=var1)\n",
        "  likl1 = distribution1.pdf(new)*alpha1\n",
        "  distribution2 = multivariate_normal(mean=mean2, cov=var2)\n",
        "  likl2 = distribution2.pdf(new)*alpha2\n",
        "  post1=np.divide(likl1,np.add(likl1,likl2))\n",
        "  post2=np.divide(likl2,np.add(likl1,likl2))\n",
        "  l.append(computeLikeli(likl1,likl2))\n",
        "  print(\"log liklehood\",computeLikeli(likl1,likl2))\n",
        "\n",
        "\n",
        "  #calculating new alpha\n",
        "  new_alpha1=np.mean(post1)\n",
        "  new_alpha2=np.mean(post2)\n",
        "  c0=[]\n",
        "  c1=[]\n",
        "  \n",
        "  for i in range(len(new)):\n",
        "    c0.append(new[i]*post1[i])\n",
        "    c1.append(new[i]*post2[i])\n",
        "  \n",
        "  #calculating new mean\n",
        "  new_mean1=np.sum(np.array(c0),axis=0)/np.sum(post1)\n",
        "  new_mean2=np.sum(np.array(c1),axis=0)/np.sum(post2)\n",
        "\n",
        "\n",
        "  #calculating new diagonal varience\n",
        "  xx=[]\n",
        "  for i in range(len(new)):\n",
        "    xx.append(new[i]- new_mean1)\n",
        "  xx=np.array(xx)\n",
        "  yy=[]\n",
        "  for i in range(len(new)):\n",
        "    yy.append(new[i]- new_mean2)\n",
        "  yy=np.array(yy)\n",
        "\n",
        "  var_new1 = np.zeros((new.shape[1],new.shape[1]))\n",
        "  for i in range(len(xx)):\n",
        "    temp = np.matrix(xx[i])\n",
        "    a = np.matmul(temp.T,temp)\n",
        "    a = a*post1[i]\n",
        "    var_new1 = np.add(var_new1,a)\n",
        "  var_new1=var_new1 / np.sum(post1)\n",
        "\n",
        "  var_new2 = np.zeros((new.shape[1],new.shape[1]))\n",
        "  for i in range(len(yy)):\n",
        "    temp = np.matrix(yy[i])\n",
        "    a = np.matmul(temp.T,temp)\n",
        "    a = a*post2[i]\n",
        "    var_new2= np.add(var_new2,a)\n",
        "  \n",
        "\n",
        "  var_new2=var_new2 / np.sum(post2)\n",
        "\n",
        "  if N-1>0:\n",
        "    return ComputeEM(new_alpha1,new_alpha2,new_mean1,new_mean2,var_new1,var_new2,new,N-1,l)\n",
        "  else :\n",
        "    alpha=[new_alpha1,new_alpha2]\n",
        "    mean=[new_mean1,new_mean2]\n",
        "    cov=[var_new1,var_new2]\n",
        "    return l,np.array(alpha),np.array(mean),np.array(cov)\n",
        "  \n",
        "\n",
        "\n",
        "  \n",
        "\n",
        "\n",
        "  \n"
      ],
      "execution_count": 74,
      "outputs": []
    },
    {
      "cell_type": "markdown",
      "metadata": {
        "id": "HNgpKov_b9h4"
      },
      "source": [
        "# **EM for music**"
      ]
    },
    {
      "cell_type": "code",
      "metadata": {
        "colab": {
          "base_uri": "https://localhost:8080/"
        },
        "id": "LxQWzs8-OP2p",
        "outputId": "0488a3f2-0e4c-4b15-8d69-f62493c006ee"
      },
      "source": [
        "l_m,alpha_m,mean_m,cov_m=ComputeEM(alpha1,alpha2,mean1,mean2,var1,var2,music,10,[]\n",
        "                    )\n"
      ],
      "execution_count": 76,
      "outputs": [
        {
          "output_type": "stream",
          "text": [
            "log liklehood -1476138.7128551346\n",
            "log liklehood -1721880.1104225859\n",
            "log liklehood -1716507.1238189363\n",
            "log liklehood -1697218.8754378934\n",
            "log liklehood -1652902.441805015\n",
            "log liklehood -1614159.8426490172\n",
            "log liklehood -1590939.77503817\n",
            "log liklehood -1576326.4960212265\n",
            "log liklehood -1567268.8203086576\n",
            "log liklehood -1561857.5834366833\n"
          ],
          "name": "stdout"
        }
      ]
    },
    {
      "cell_type": "code",
      "metadata": {
        "id": "BNRaJYSocEpT"
      },
      "source": [
        ""
      ],
      "execution_count": null,
      "outputs": []
    },
    {
      "cell_type": "markdown",
      "metadata": {
        "id": "AJl9OgE4cHVT"
      },
      "source": [
        "# **EM for speech**"
      ]
    },
    {
      "cell_type": "code",
      "metadata": {
        "colab": {
          "base_uri": "https://localhost:8080/"
        },
        "id": "tCBw_tgqY5jS",
        "outputId": "517631a8-47e7-4ef9-9e2d-d0aa0a4adb90"
      },
      "source": [
        "l_s,alpha_s,mean_s,cov_s=ComputeEM(alpha1_s,alpha2_s,mean1_s,mean2_s,var1_s,var2_s,speech,10,[])"
      ],
      "execution_count": 78,
      "outputs": [
        {
          "output_type": "stream",
          "text": [
            "log liklehood -12554624.783392861\n",
            "log liklehood -3717381.0599998\n",
            "log liklehood -3535721.591514093\n",
            "log liklehood -3426817.4999485593\n",
            "log liklehood -3402284.3627906675\n",
            "log liklehood -3389330.141889343\n",
            "log liklehood -3380892.6513281693\n",
            "log liklehood -3374247.4349500886\n",
            "log liklehood -3368279.166611237\n",
            "log liklehood -3362010.4205860016\n"
          ],
          "name": "stdout"
        }
      ]
    },
    {
      "cell_type": "code",
      "metadata": {
        "id": "OUlaHBHJQly8"
      },
      "source": [
        "del l_m[0]"
      ],
      "execution_count": 79,
      "outputs": []
    },
    {
      "cell_type": "code",
      "metadata": {
        "id": "jgshtE5SZImt"
      },
      "source": [
        ""
      ],
      "execution_count": null,
      "outputs": []
    },
    {
      "cell_type": "markdown",
      "metadata": {
        "id": "rn3xq3deZMfb"
      },
      "source": [
        "# **plotting log likelihood for music data**"
      ]
    },
    {
      "cell_type": "code",
      "metadata": {
        "colab": {
          "base_uri": "https://localhost:8080/",
          "height": 293
        },
        "id": "2nPdrkIuOh7N",
        "outputId": "77daa48e-184b-4a4c-8789-36f3f15df6b2"
      },
      "source": [
        "import matplotlib.pyplot as plt\n",
        "plt.plot(l_m)"
      ],
      "execution_count": 80,
      "outputs": [
        {
          "output_type": "execute_result",
          "data": {
            "text/plain": [
              "[<matplotlib.lines.Line2D at 0x7f7f69f5d310>]"
            ]
          },
          "metadata": {
            "tags": []
          },
          "execution_count": 80
        },
        {
          "output_type": "display_data",
          "data": {
            "image/png": "[encoded data removed]",
            "text/plain": [
              "<Figure size 432x288 with 1 Axes>"
            ]
          },
          "metadata": {
            "tags": [],
            "needs_background": "light"
          }
        }
      ]
    },
    {
      "cell_type": "markdown",
      "metadata": {
        "id": "Mjsv_t0nZTo_"
      },
      "source": [
        "# **plotting log_likelihood for speech data**"
      ]
    },
    {
      "cell_type": "code",
      "metadata": {
        "colab": {
          "base_uri": "https://localhost:8080/",
          "height": 293
        },
        "id": "lUefQubJQFlm",
        "outputId": "3433625b-c6f7-48f4-a011-36d69ebc3cd8"
      },
      "source": [
        "import matplotlib.pyplot as plt\n",
        "plt.plot(l_s)"
      ],
      "execution_count": 81,
      "outputs": [
        {
          "output_type": "execute_result",
          "data": {
            "text/plain": [
              "[<matplotlib.lines.Line2D at 0x7f7f69f631d0>]"
            ]
          },
          "metadata": {
            "tags": []
          },
          "execution_count": 81
        },
        {
          "output_type": "display_data",
          "data": {
            "image/png": "[encoded data removed]",
            "text/plain": [
              "<Figure size 432x288 with 1 Axes>"
            ]
          },
          "metadata": {
            "tags": [],
            "needs_background": "light"
          }
        }
      ]
    },
    {
      "cell_type": "code",
      "metadata": {
        "id": "l0pY-cu4ZaHl"
      },
      "source": [
        ""
      ],
      "execution_count": null,
      "outputs": []
    },
    {
      "cell_type": "markdown",
      "metadata": {
        "id": "rndbpj6YNKVJ"
      },
      "source": [
        "# **testing data**"
      ]
    },
    {
      "cell_type": "code",
      "metadata": {
        "id": "fYShNGRANNuY"
      },
      "source": [
        "f=glob.glob(\"/content/drive/My Drive/speech_music_classification/test/*.wav\")\n",
        "test_data=load_data(f)\n",
        "test_data=load_data(f)\n",
        "test_fft = scipy.fft.fft(test_data, n=64, axis=- 1)\n",
        "test_fft=np.delete(test_fft,np.s_[32:],axis=1)\n",
        "test_fft = np.where(test_fft > 0.0000000001, test_fft, 10)\n",
        "test=np.log(np.absolute(test_fft))\n"
      ],
      "execution_count": 82,
      "outputs": []
    },
    {
      "cell_type": "code",
      "metadata": {
        "colab": {
          "base_uri": "https://localhost:8080/"
        },
        "id": "jj7fW8KYNRsT",
        "outputId": "ddfbaa40-b2da-4694-8c7c-1cb5771e2490"
      },
      "source": [
        "labels=[]\n",
        "for name in f:\n",
        "  if \"speech_music_classification/test/music\" in name:\n",
        "\n",
        "    labels.append(0)\n",
        "  else:\n",
        "    labels.append(1)\n",
        "print(labels)"
      ],
      "execution_count": 83,
      "outputs": [
        {
          "output_type": "stream",
          "text": [
            "[0, 0, 0, 0, 0, 0, 0, 0, 0, 0, 0, 0, 0, 0, 0, 0, 1, 0, 0, 0, 0, 0, 0, 0, 0, 1, 1, 1, 1, 1, 1, 1, 1, 1, 1, 1, 1, 1, 1, 1, 1, 1, 1, 1, 1, 1, 1, 1]\n"
          ],
          "name": "stdout"
        }
      ]
    },
    {
      "cell_type": "code",
      "metadata": {
        "colab": {
          "base_uri": "https://localhost:8080/"
        },
        "id": "roWpS0xwN0FU",
        "outputId": "14688bd1-1ba9-49a7-f473-2ed34eb29373"
      },
      "source": [
        "prob_m=np.zeros(test.shape[0])\n",
        "for i in range(2):\n",
        "  distribution = multivariate_normal(mean=mean_m[i], cov=cov_m[i])\n",
        "  prob_m = np.add(prob_m,distribution.pdf(test)*alpha_m[i])\n",
        "print(prob_m.shape)\n",
        "\n"
      ],
      "execution_count": 86,
      "outputs": [
        {
          "output_type": "stream",
          "text": [
            "(143904,)\n"
          ],
          "name": "stdout"
        }
      ]
    },
    {
      "cell_type": "code",
      "metadata": {
        "colab": {
          "base_uri": "https://localhost:8080/"
        },
        "id": "3O9ztvSEN2-G",
        "outputId": "e3ab68db-1d1f-4018-e61b-26b3158fc08d"
      },
      "source": [
        "prob_s=np.zeros(test.shape[0])\n",
        "for i in range(2):\n",
        "  distribution = multivariate_normal(mean=mean_s[i], cov=cov_s[i])\n",
        "  prob_s= np.add(prob_s,distribution.pdf(test)*alpha_s[i])\n",
        "print(prob_s.shape)"
      ],
      "execution_count": 87,
      "outputs": [
        {
          "output_type": "stream",
          "text": [
            "(143904,)\n"
          ],
          "name": "stdout"
        }
      ]
    },
    {
      "cell_type": "code",
      "metadata": {
        "colab": {
          "base_uri": "https://localhost:8080/"
        },
        "id": "5zUPLHSQOYBp",
        "outputId": "f805433e-d772-45d2-bb8e-819440932e40"
      },
      "source": [
        "pred_labels=[]\n",
        "for i in range(len(labels)):\n",
        "  sum1=0\n",
        "  sum2=0\n",
        "  for j in range(2998*i,2998*(i+1)):\n",
        "    sum1=sum1+prob_m[j]\n",
        "    sum2=sum2+prob_s[j]\n",
        "  if(sum1<=sum2):\n",
        "    pred_labels.append(0)\n",
        "  else:\n",
        "    pred_labels.append(1)\n",
        "print(pred_labels)"
      ],
      "execution_count": 110,
      "outputs": [
        {
          "output_type": "stream",
          "text": [
            "[0, 0, 1, 1, 0, 0, 1, 0, 0, 0, 0, 1, 1, 0, 0, 1, 1, 1, 1, 1, 1, 1, 1, 1, 1, 1, 1, 0, 1, 1, 1, 1, 1, 1, 1, 1, 1, 1, 0, 1, 1, 0, 1, 1, 1, 1, 0, 0]\n"
          ],
          "name": "stdout"
        }
      ]
    },
    {
      "cell_type": "code",
      "metadata": {
        "id": "rK2SnczmOa-G"
      },
      "source": [
        "# pred_labels=[]\n",
        "# for i in range(len(labels)):\n",
        "#   sum=0\n",
        "#   for j in range(2998*i,2998*(i+1)):\n",
        "#     sum=sum+y[j]\n",
        "#   if(sum<(2998/2)):\n",
        "#     pred_labels.append(0)\n",
        "#   else:\n",
        "#     pred_labels.append(1)"
      ],
      "execution_count": 89,
      "outputs": []
    },
    {
      "cell_type": "code",
      "metadata": {
        "colab": {
          "base_uri": "https://localhost:8080/"
        },
        "id": "5IVePtYEOfXL",
        "outputId": "28fdcff8-240a-4778-eb16-c6069f7f9d36"
      },
      "source": [
        "from sklearn.metrics import accuracy_score\n",
        "print(\"accuracy:\",accuracy_score(labels, pred_labels))"
      ],
      "execution_count": 108,
      "outputs": [
        {
          "output_type": "stream",
          "text": [
            "accuracy: 0.6041666666666666\n"
          ],
          "name": "stdout"
        }
      ]
    },
    {
      "cell_type": "code",
      "metadata": {
        "id": "QyDVG-QnOiLF"
      },
      "source": [
        ""
      ],
      "execution_count": null,
      "outputs": []
    }
  ]
}