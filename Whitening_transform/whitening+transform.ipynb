{
  "nbformat": 4,
  "nbformat_minor": 0,
  "metadata": {
    "colab": {
      "name": "MLSP_question5_a.ipynb",
      "provenance": [],
      "collapsed_sections": []
    },
    "kernelspec": {
      "name": "python3",
      "display_name": "Python 3"
    },
    "language_info": {
      "name": "python"
    }
  },
  "cells": [
    {
      "cell_type": "code",
      "metadata": {
        "id": "7u1TGaRSw_ES"
      },
      "source": [
        "import numpy as np \n",
        "import pandas as pd\n",
        "import matplotlib.pyplot as plt \n",
        "from scipy.io import wavfile\n"
      ],
      "execution_count": 193,
      "outputs": []
    },
    {
      "cell_type": "code",
      "metadata": {
        "colab": {
          "base_uri": "https://localhost:8080/"
        },
        "id": "b_FFlhjpkFnb",
        "outputId": "195ac4f9-5419-4ad8-b91c-82be0a521624"
      },
      "source": [
        "from google.colab import drive\n",
        "drive.mount('/content/drive')\n",
        "#files=glob.glob('/content/drive/My Drive/Data/emotion_classification/train/*.gif')"
      ],
      "execution_count": 194,
      "outputs": [
        {
          "output_type": "stream",
          "text": [
            "Drive already mounted at /content/drive; to attempt to forcibly remount, call drive.mount(\"/content/drive\", force_remount=True).\n"
          ],
          "name": "stdout"
        }
      ]
    },
    {
      "cell_type": "markdown",
      "metadata": {
        "id": "j5d4rStJA0Fp"
      },
      "source": [
        "# **import clean data**"
      ]
    },
    {
      "cell_type": "code",
      "metadata": {
        "id": "si7XdxoUj_zs"
      },
      "source": [
        "samplerate, data = wavfile.read('/content/drive/My Drive/speech/speechFiles/clean.wav')"
      ],
      "execution_count": 195,
      "outputs": []
    },
    {
      "cell_type": "code",
      "metadata": {
        "colab": {
          "base_uri": "https://localhost:8080/"
        },
        "id": "FoWENk3plZSJ",
        "outputId": "78544882-b1b6-48c1-8026-21684563452a"
      },
      "source": [
        "data.shape"
      ],
      "execution_count": 196,
      "outputs": [
        {
          "output_type": "execute_result",
          "data": {
            "text/plain": [
              "(50000,)"
            ]
          },
          "metadata": {
            "tags": []
          },
          "execution_count": 196
        }
      ]
    },
    {
      "cell_type": "code",
      "metadata": {
        "id": "eFGGA2K_leiz"
      },
      "source": [
        "freq=16\n",
        "window_size=25\n",
        "shift=10\n",
        "new_data=[]\n",
        "sample_ws=window_size*freq\n",
        "sample_shift=shift*freq\n",
        "for i in range(298):\n",
        "  start=sample_shift*i\n",
        "  end=start+sample_ws\n",
        "  t=[]\n",
        "  for j in range(start,end):\n",
        "    t.append(data[j])\n",
        "  new_data.append(t)\n",
        "new_data=np.array(new_data)\n",
        "\n"
      ],
      "execution_count": 197,
      "outputs": []
    },
    {
      "cell_type": "markdown",
      "metadata": {
        "id": "gPqPo6JABLqq"
      },
      "source": [
        "# **Applying fourier transform on clean data**"
      ]
    },
    {
      "cell_type": "code",
      "metadata": {
        "id": "AZxzwTavpK-w"
      },
      "source": [
        "import scipy\n",
        "from scipy.fft import fft\n",
        "clean_fft = scipy.fft.fft(new_data, n=256, axis=- 1)"
      ],
      "execution_count": 198,
      "outputs": []
    },
    {
      "cell_type": "code",
      "metadata": {
        "id": "wVIYCJvfeXtN"
      },
      "source": [
        "clean_fft=np.delete(clean_fft,np.s_[128:],axis=1)"
      ],
      "execution_count": 199,
      "outputs": []
    },
    {
      "cell_type": "code",
      "metadata": {
        "colab": {
          "base_uri": "https://localhost:8080/"
        },
        "id": "TXpn0mJ8gVvZ",
        "outputId": "34ecf977-f014-48da-a1d6-1327d2af36fe"
      },
      "source": [
        "clean_fft.shape"
      ],
      "execution_count": 200,
      "outputs": [
        {
          "output_type": "execute_result",
          "data": {
            "text/plain": [
              "(298, 128)"
            ]
          },
          "metadata": {
            "tags": []
          },
          "execution_count": 200
        }
      ]
    },
    {
      "cell_type": "code",
      "metadata": {
        "id": "OsforxohgZU2"
      },
      "source": [
        "clean_fft=np.absolute(clean_fft)"
      ],
      "execution_count": 201,
      "outputs": []
    },
    {
      "cell_type": "code",
      "metadata": {
        "id": "kmrIhDTUhjhp"
      },
      "source": [
        "clean_fft=np.log(clean_fft)\n"
      ],
      "execution_count": 202,
      "outputs": []
    },
    {
      "cell_type": "code",
      "metadata": {
        "colab": {
          "base_uri": "https://localhost:8080/"
        },
        "id": "KOWHn5EA1bAz",
        "outputId": "2a8e8b4c-fef6-4042-d4bd-4088bfebc8f2"
      },
      "source": [
        "clean_fft"
      ],
      "execution_count": 203,
      "outputs": [
        {
          "output_type": "execute_result",
          "data": {
            "text/plain": [
              "array([[6.12686918, 7.28144371, 5.93187779, ..., 2.04266071, 2.4049483 ,\n",
              "        2.10012012],\n",
              "       [6.65801105, 6.25178615, 5.45975573, ..., 1.17144881, 1.93212265,\n",
              "        2.11231368],\n",
              "       [5.44241771, 4.16271461, 3.94228034, ..., 1.48380558, 1.76626801,\n",
              "        1.88496236],\n",
              "       ...,\n",
              "       [8.88544091, 8.9267673 , 9.15602101, ..., 6.48727899, 6.48970223,\n",
              "        6.48789518],\n",
              "       [9.39391115, 9.50173921, 9.58240528, ..., 6.35076434, 6.35518048,\n",
              "        6.34611629],\n",
              "       [6.87523209, 8.47187473, 9.32874946, ..., 6.32105638, 6.32385786,\n",
              "        6.30811326]])"
            ]
          },
          "metadata": {
            "tags": []
          },
          "execution_count": 203
        }
      ]
    },
    {
      "cell_type": "code",
      "metadata": {
        "id": "Bz4ZsGQDhq93"
      },
      "source": [
        "clean_cov=np.dot(clean_fft.T,clean_fft)\n",
        "\n"
      ],
      "execution_count": 204,
      "outputs": []
    },
    {
      "cell_type": "code",
      "metadata": {
        "colab": {
          "base_uri": "https://localhost:8080/"
        },
        "id": "l9snCnLj0bV5",
        "outputId": "b2cfd920-d29d-4b94-d7ef-292e40cb68d3"
      },
      "source": [
        "clean_cov"
      ],
      "execution_count": 205,
      "outputs": [
        {
          "output_type": "execute_result",
          "data": {
            "text/plain": [
              "array([[19808.97012843, 20951.12415309, 21628.80714908, ...,\n",
              "        13499.18981061, 13506.48454083, 13472.25365014],\n",
              "       [20951.12415309, 22470.14951487, 23169.22547487, ...,\n",
              "        14454.55070021, 14455.07383407, 14414.85861938],\n",
              "       [21628.80714908, 23169.22547487, 24052.92971336, ...,\n",
              "        14990.65746466, 14993.63621752, 14950.6135742 ],\n",
              "       ...,\n",
              "       [13499.18981061, 14454.55070021, 14990.65746466, ...,\n",
              "         9830.78498293,  9819.46534003,  9800.85753942],\n",
              "       [13506.48454083, 14455.07383407, 14993.63621752, ...,\n",
              "         9819.46534003,  9817.68844518,  9795.45930878],\n",
              "       [13472.25365014, 14414.85861938, 14950.6135742 , ...,\n",
              "         9800.85753942,  9795.45930878,  9782.78568571]])"
            ]
          },
          "metadata": {
            "tags": []
          },
          "execution_count": 205
        }
      ]
    },
    {
      "cell_type": "markdown",
      "metadata": {
        "id": "wOApU3U807cM"
      },
      "source": [
        "# **calculating whitening transform matrix**"
      ]
    },
    {
      "cell_type": "code",
      "metadata": {
        "id": "9msrfkXjiuFj"
      },
      "source": [
        "val,vec=np.linalg.eigh(clean_cov)"
      ],
      "execution_count": 206,
      "outputs": []
    },
    {
      "cell_type": "code",
      "metadata": {
        "colab": {
          "base_uri": "https://localhost:8080/"
        },
        "id": "iPyauzrS0Uci",
        "outputId": "1e2835e2-7cab-483f-8068-9425963ea293"
      },
      "source": [
        "val"
      ],
      "execution_count": 207,
      "outputs": [
        {
          "output_type": "execute_result",
          "data": {
            "text/plain": [
              "array([3.03669252e-01, 4.15093930e-01, 5.40971748e-01, 7.88601662e-01,\n",
              "       1.20070563e+00, 1.36867359e+00, 2.04580721e+00, 2.24755864e+00,\n",
              "       2.89218856e+00, 3.64944451e+00, 4.84753136e+00, 8.73649163e+00,\n",
              "       1.11493173e+01, 1.28100989e+01, 1.42460152e+01, 1.48862177e+01,\n",
              "       1.64263292e+01, 1.68580205e+01, 1.81600370e+01, 2.00015677e+01,\n",
              "       2.07669141e+01, 2.08755276e+01, 2.20174514e+01, 2.39255452e+01,\n",
              "       2.45177845e+01, 2.62488692e+01, 2.76240207e+01, 2.87514011e+01,\n",
              "       2.93479314e+01, 3.02967457e+01, 3.08361604e+01, 3.11572108e+01,\n",
              "       3.27656013e+01, 3.50746725e+01, 3.53957537e+01, 3.70817916e+01,\n",
              "       3.78189483e+01, 3.86433515e+01, 3.91816525e+01, 4.06406290e+01,\n",
              "       4.14961499e+01, 4.25419794e+01, 4.40880772e+01, 4.61614795e+01,\n",
              "       4.67462903e+01, 4.74800944e+01, 5.02065265e+01, 5.29072936e+01,\n",
              "       5.35517793e+01, 5.42043103e+01, 5.66247802e+01, 5.76368361e+01,\n",
              "       5.90020637e+01, 5.99773823e+01, 6.14739989e+01, 6.37369292e+01,\n",
              "       6.47032851e+01, 6.55981590e+01, 6.73745607e+01, 6.93868303e+01,\n",
              "       7.15210359e+01, 7.27868350e+01, 7.38161599e+01, 7.73125663e+01,\n",
              "       7.88404366e+01, 8.02061139e+01, 8.07604995e+01, 8.27439300e+01,\n",
              "       8.48948527e+01, 8.66300625e+01, 8.82917947e+01, 9.05728637e+01,\n",
              "       9.08658749e+01, 9.34116007e+01, 9.63772128e+01, 1.00021467e+02,\n",
              "       1.01500668e+02, 1.04525058e+02, 1.07757525e+02, 1.11848868e+02,\n",
              "       1.13016487e+02, 1.16083375e+02, 1.18309202e+02, 1.20632939e+02,\n",
              "       1.22349692e+02, 1.26525450e+02, 1.30666315e+02, 1.31896217e+02,\n",
              "       1.35287681e+02, 1.36242088e+02, 1.41500135e+02, 1.44145876e+02,\n",
              "       1.49025639e+02, 1.51128791e+02, 1.54130273e+02, 1.57408089e+02,\n",
              "       1.62138078e+02, 1.67373433e+02, 1.72164844e+02, 1.76338717e+02,\n",
              "       1.78687296e+02, 1.86634960e+02, 1.93628533e+02, 1.94398179e+02,\n",
              "       2.03557359e+02, 2.11159761e+02, 2.22057963e+02, 2.27217258e+02,\n",
              "       2.36466068e+02, 2.50098558e+02, 2.52050794e+02, 2.63058855e+02,\n",
              "       2.71922926e+02, 2.94317137e+02, 3.10514020e+02, 3.37692080e+02,\n",
              "       3.70843945e+02, 4.02018512e+02, 4.84111558e+02, 5.36806961e+02,\n",
              "       5.99387539e+02, 6.92376877e+02, 1.15191865e+03, 1.91625652e+03,\n",
              "       2.25610616e+03, 3.55976079e+03, 1.49104109e+04, 2.02419809e+06])"
            ]
          },
          "metadata": {
            "tags": []
          },
          "execution_count": 207
        }
      ]
    },
    {
      "cell_type": "code",
      "metadata": {
        "colab": {
          "base_uri": "https://localhost:8080/"
        },
        "id": "cTxzPeLsizrT",
        "outputId": "398bac39-cb8b-404a-a842-d32dc9ce9e85"
      },
      "source": [
        "val1=np.power(val,-0.5)\n",
        "L=np.diag(val1)\n",
        "L\n",
        "\n"
      ],
      "execution_count": 208,
      "outputs": [
        {
          "output_type": "execute_result",
          "data": {
            "text/plain": [
              "array([[1.81467807e+00, 0.00000000e+00, 0.00000000e+00, ...,\n",
              "        0.00000000e+00, 0.00000000e+00, 0.00000000e+00],\n",
              "       [0.00000000e+00, 1.55212541e+00, 0.00000000e+00, ...,\n",
              "        0.00000000e+00, 0.00000000e+00, 0.00000000e+00],\n",
              "       [0.00000000e+00, 0.00000000e+00, 1.35960486e+00, ...,\n",
              "        0.00000000e+00, 0.00000000e+00, 0.00000000e+00],\n",
              "       ...,\n",
              "       [0.00000000e+00, 0.00000000e+00, 0.00000000e+00, ...,\n",
              "        1.67606012e-02, 0.00000000e+00, 0.00000000e+00],\n",
              "       [0.00000000e+00, 0.00000000e+00, 0.00000000e+00, ...,\n",
              "        0.00000000e+00, 8.18945864e-03, 0.00000000e+00],\n",
              "       [0.00000000e+00, 0.00000000e+00, 0.00000000e+00, ...,\n",
              "        0.00000000e+00, 0.00000000e+00, 7.02867553e-04]])"
            ]
          },
          "metadata": {
            "tags": []
          },
          "execution_count": 208
        }
      ]
    },
    {
      "cell_type": "code",
      "metadata": {
        "colab": {
          "base_uri": "https://localhost:8080/"
        },
        "id": "Bpd-dKCykdb8",
        "outputId": "d38f09da-0fde-4619-e6c4-164ffef79cb5"
      },
      "source": [
        "whitening_matrix=np.dot(L,vec.T)\n",
        "whitening_matrix"
      ],
      "execution_count": 209,
      "outputs": [
        {
          "output_type": "execute_result",
          "data": {
            "text/plain": [
              "array([[-7.57503278e-03,  5.56384496e-03,  3.37261900e-03, ...,\n",
              "        -3.75475891e-01, -9.13378666e-02,  2.41386835e-01],\n",
              "       [ 2.69346924e-03, -9.36052236e-03, -1.15031267e-02, ...,\n",
              "        -3.32413852e-01,  1.47998007e-01,  4.68812247e-01],\n",
              "       [ 7.02532124e-03, -3.32854348e-02,  3.91870821e-02, ...,\n",
              "        -9.72662714e-03,  5.15595243e-02, -1.99061429e-01],\n",
              "       ...,\n",
              "       [ 2.88207660e-04, -4.21963570e-04,  1.32985881e-04, ...,\n",
              "         3.83589970e-03,  3.76189087e-03,  3.94800836e-03],\n",
              "       [-5.74616752e-04, -4.28594351e-04, -5.94290753e-04, ...,\n",
              "         3.06839423e-04,  2.83058278e-04,  2.72727155e-04],\n",
              "       [ 6.84568710e-05,  7.33879379e-05,  7.59957369e-05, ...,\n",
              "         4.83354800e-05,  4.83335244e-05,  4.81903902e-05]])"
            ]
          },
          "metadata": {
            "tags": []
          },
          "execution_count": 209
        }
      ]
    },
    {
      "cell_type": "code",
      "metadata": {
        "colab": {
          "base_uri": "https://localhost:8080/"
        },
        "id": "XL82hj6Fmti-",
        "outputId": "81983adc-17bc-47eb-c71f-707d5f6ac715"
      },
      "source": [
        "whitening_matrix.shape"
      ],
      "execution_count": 210,
      "outputs": [
        {
          "output_type": "execute_result",
          "data": {
            "text/plain": [
              "(128, 128)"
            ]
          },
          "metadata": {
            "tags": []
          },
          "execution_count": 210
        }
      ]
    },
    {
      "cell_type": "markdown",
      "metadata": {
        "id": "l1NUMBKOnapF"
      },
      "source": [
        "# **import noisy wave and applying fourier transform**\n"
      ]
    },
    {
      "cell_type": "code",
      "metadata": {
        "id": "bTey_Tn-mwev"
      },
      "source": [
        "\n",
        "samplerate, dataN = wavfile.read('/content/drive/My Drive/speech/speechFiles/noisy.wav')\n",
        "new_dataN=[]\n",
        "\n",
        "for i in range(298):\n",
        "  start=sample_shift*i\n",
        "  end=start+sample_ws\n",
        "  t=[]\n",
        "  for j in range(start,end):\n",
        "    t.append(dataN[j])\n",
        "  new_dataN.append(t)\n",
        "new_dataN=np.array(new_dataN)\n",
        "\n",
        "import scipy\n",
        "from scipy.fft import fft\n",
        "\n",
        "Noisy_fft = scipy.fft.fft(new_dataN, n=256, axis=- 1)\n",
        "Noisy_fft=np.delete(Noisy_fft,np.s_[128:],axis=1)\n",
        "Noisy_fft=np.absolute(Noisy_fft)\n",
        "Noisy_fft=np.log(Noisy_fft)\n",
        "\n",
        "\n",
        "\n"
      ],
      "execution_count": 211,
      "outputs": []
    },
    {
      "cell_type": "code",
      "metadata": {
        "colab": {
          "base_uri": "https://localhost:8080/"
        },
        "id": "FBcI5QyK0LFN",
        "outputId": "b7b2ffab-7a0c-449a-cf9f-cf2765ebba6f"
      },
      "source": [
        "print(Noisy_fft)"
      ],
      "execution_count": 212,
      "outputs": [
        {
          "output_type": "stream",
          "text": [
            "[[6.57228254 7.2689637  7.51343361 ... 4.08835662 6.089001   5.86758926]\n",
            " [6.50128967 6.74460944 6.16738372 ... 5.64418518 5.61202011 6.46444352]\n",
            " [5.81711116 5.92191086 7.46887439 ... 5.41718919 5.60109241 6.15282746]\n",
            " ...\n",
            " [9.02401079 8.60212118 9.05938871 ... 7.50551039 7.55369969 6.13319829]\n",
            " [9.43978404 9.67313641 9.49609749 ... 7.06316343 7.26396826 7.47753934]\n",
            " [6.60800063 8.53059936 9.39553144 ... 6.44949062 7.034915   7.1207715 ]]\n"
          ],
          "name": "stdout"
        }
      ]
    },
    {
      "cell_type": "markdown",
      "metadata": {
        "id": "ZhZVeG1QvPPn"
      },
      "source": [
        "# **Aplying whitening transform**"
      ]
    },
    {
      "cell_type": "code",
      "metadata": {
        "id": "9iLQ6KpTn5V0"
      },
      "source": [
        "mean_clean=np.mean(clean_fft,axis=0)\n",
        "mean_Noisy=np.mean(Noisy_fft,axis=0)"
      ],
      "execution_count": 213,
      "outputs": []
    },
    {
      "cell_type": "code",
      "metadata": {
        "colab": {
          "base_uri": "https://localhost:8080/"
        },
        "id": "FyFOhipQn2-R",
        "outputId": "54cd61b0-778a-48b1-ba00-50050336ebce"
      },
      "source": [
        "mean_Noisy.shape"
      ],
      "execution_count": 214,
      "outputs": [
        {
          "output_type": "execute_result",
          "data": {
            "text/plain": [
              "(128,)"
            ]
          },
          "metadata": {
            "tags": []
          },
          "execution_count": 214
        }
      ]
    },
    {
      "cell_type": "code",
      "metadata": {
        "id": "zrzYW4MOn0o9"
      },
      "source": [
        "for i in range(clean_fft.shape[0]):\n",
        "  clean_fft[i]=clean_fft[i]-mean_clean\n",
        "for i in range(Noisy_fft.shape[0]):\n",
        "  Noisy_fft[i]=Noisy_fft[i]-mean_Noisy"
      ],
      "execution_count": 215,
      "outputs": []
    },
    {
      "cell_type": "code",
      "metadata": {
        "colab": {
          "base_uri": "https://localhost:8080/"
        },
        "id": "jkYr5LUF4ZMy",
        "outputId": "fadce573-881f-4222-9733-6d2284474df2"
      },
      "source": [
        "Noisy_fft"
      ],
      "execution_count": 216,
      "outputs": [
        {
          "output_type": "execute_result",
          "data": {
            "text/plain": [
              "array([[-1.55370589, -1.46413313, -1.56220759, ..., -2.58472073,\n",
              "        -0.5709525 , -0.82152015],\n",
              "       [-1.62469876, -1.9884874 , -2.90825748, ..., -1.02889217,\n",
              "        -1.04793339, -0.2246659 ],\n",
              "       [-2.30887727, -2.81118598, -1.60676682, ..., -1.25588816,\n",
              "        -1.05886109, -0.53628195],\n",
              "       ...,\n",
              "       [ 0.89802237, -0.13097566, -0.01625249, ...,  0.83243304,\n",
              "         0.8937462 , -0.55591112],\n",
              "       [ 1.31379561,  0.94003957,  0.42045629, ...,  0.39008608,\n",
              "         0.60401476,  0.78842993],\n",
              "       [-1.5179878 , -0.20249748,  0.31989024, ..., -0.22358673,\n",
              "         0.3749615 ,  0.43166208]])"
            ]
          },
          "metadata": {
            "tags": []
          },
          "execution_count": 216
        }
      ]
    },
    {
      "cell_type": "code",
      "metadata": {
        "id": "P15EqYjQnzNh"
      },
      "source": [
        "whitened_clean=np.dot(whitening_matrix,clean_fft.T)\n",
        "whitened_noisy=np.dot(whitening_matrix,Noisy_fft.T)\n",
        "\n"
      ],
      "execution_count": 217,
      "outputs": []
    },
    {
      "cell_type": "code",
      "metadata": {
        "colab": {
          "base_uri": "https://localhost:8080/"
        },
        "id": "Wj8IPB9s42t_",
        "outputId": "7110d374-9e66-4ece-918f-92c4eb8d709e"
      },
      "source": [
        "print(whitened_clean)"
      ],
      "execution_count": 218,
      "outputs": [
        {
          "output_type": "stream",
          "text": [
            "[[-0.01997526  0.07904434 -0.02124915 ...  0.04558438  0.02965971\n",
            "   0.05829295]\n",
            " [ 0.09803206 -0.0792565  -0.08459583 ... -0.01261663  0.0680168\n",
            "   0.09738787]\n",
            " [ 0.08292263 -0.0237325  -0.15695839 ... -0.01014553  0.00025588\n",
            "  -0.05178144]\n",
            " ...\n",
            " [-0.07393303 -0.11344556 -0.11825287 ...  0.04503419  0.04510261\n",
            "   0.05126464]\n",
            " [-0.01432829 -0.02404592 -0.02131351 ... -0.03478547 -0.03005926\n",
            "  -0.03843165]\n",
            " [-0.02200719 -0.02123205 -0.02056126 ...  0.00521129  0.00378292\n",
            "   0.00400824]]\n"
          ],
          "name": "stdout"
        }
      ]
    },
    {
      "cell_type": "code",
      "metadata": {
        "colab": {
          "base_uri": "https://localhost:8080/"
        },
        "id": "V7izlBi30CyR",
        "outputId": "968e3ec3-991d-4222-e931-f8f68fd3e67a"
      },
      "source": [
        "whitened_clean"
      ],
      "execution_count": 219,
      "outputs": [
        {
          "output_type": "execute_result",
          "data": {
            "text/plain": [
              "array([[-0.01997526,  0.07904434, -0.02124915, ...,  0.04558438,\n",
              "         0.02965971,  0.05829295],\n",
              "       [ 0.09803206, -0.0792565 , -0.08459583, ..., -0.01261663,\n",
              "         0.0680168 ,  0.09738787],\n",
              "       [ 0.08292263, -0.0237325 , -0.15695839, ..., -0.01014553,\n",
              "         0.00025588, -0.05178144],\n",
              "       ...,\n",
              "       [-0.07393303, -0.11344556, -0.11825287, ...,  0.04503419,\n",
              "         0.04510261,  0.05126464],\n",
              "       [-0.01432829, -0.02404592, -0.02131351, ..., -0.03478547,\n",
              "        -0.03005926, -0.03843165],\n",
              "       [-0.02200719, -0.02123205, -0.02056126, ...,  0.00521129,\n",
              "         0.00378292,  0.00400824]])"
            ]
          },
          "metadata": {
            "tags": []
          },
          "execution_count": 219
        }
      ]
    },
    {
      "cell_type": "code",
      "metadata": {
        "colab": {
          "base_uri": "https://localhost:8080/"
        },
        "id": "dyVWlt6AxzaJ",
        "outputId": "8444ff65-d756-485e-d59c-06630af53c24"
      },
      "source": [
        "whitened_noisy.shape"
      ],
      "execution_count": 220,
      "outputs": [
        {
          "output_type": "execute_result",
          "data": {
            "text/plain": [
              "(128, 298)"
            ]
          },
          "metadata": {
            "tags": []
          },
          "execution_count": 220
        }
      ]
    },
    {
      "cell_type": "markdown",
      "metadata": {
        "id": "1aB198HdxEel"
      },
      "source": [
        "# **Computing covariance matrix of whitened clean and Noisy data**"
      ]
    },
    {
      "cell_type": "code",
      "metadata": {
        "id": "PwODCZXLw5it"
      },
      "source": [
        "Wclean_cov=np.dot(whitened_clean,whitened_clean.T)\n",
        "Wnoise_cov=np.dot(whitened_noisy,whitened_noisy.T)"
      ],
      "execution_count": 221,
      "outputs": []
    },
    {
      "cell_type": "code",
      "metadata": {
        "id": "rV8s4GVH_cZe"
      },
      "source": [
        "Wclean_cov=Wclean_cov/298\n",
        "Wnoise_cov=Wnoise_cov/298"
      ],
      "execution_count": 222,
      "outputs": []
    },
    {
      "cell_type": "code",
      "metadata": {
        "colab": {
          "base_uri": "https://localhost:8080/"
        },
        "id": "7hMCELZixpbt",
        "outputId": "0a258541-a67a-4855-f089-61c33ca40008"
      },
      "source": [
        "Wclean_cov"
      ],
      "execution_count": 223,
      "outputs": [
        {
          "output_type": "execute_result",
          "data": {
            "text/plain": [
              "array([[ 3.35570395e-03,  2.68352251e-09, -1.30472041e-08, ...,\n",
              "         7.61660021e-08,  3.01320248e-08, -1.56740359e-06],\n",
              "       [ 2.68352251e-09,  3.35569507e-03,  4.67874068e-08, ...,\n",
              "        -2.73133872e-07, -1.08054465e-07,  5.62076254e-06],\n",
              "       [-1.30472041e-08,  4.67874068e-08,  3.35547722e-03, ...,\n",
              "         1.32794747e-06,  5.25349171e-07, -2.73275421e-05],\n",
              "       ...,\n",
              "       [ 7.61660021e-08, -2.73133872e-07,  1.32794747e-06, ...,\n",
              "         3.34795246e-03, -3.06686210e-06,  1.59531618e-04],\n",
              "       [ 3.01320248e-08, -1.08054465e-07,  5.25349171e-07, ...,\n",
              "        -3.06686210e-06,  3.35449142e-03,  6.31122878e-05],\n",
              "       [-1.56740359e-06,  5.62076254e-06, -2.73275421e-05, ...,\n",
              "         1.59531618e-04,  6.31122878e-05,  7.27382541e-05]])"
            ]
          },
          "metadata": {
            "tags": []
          },
          "execution_count": 223
        }
      ]
    },
    {
      "cell_type": "markdown",
      "metadata": {
        "id": "URxMA9muPnyZ"
      },
      "source": [
        "# **Calculating Average of Non diagonal elements of covariance matrix**"
      ]
    },
    {
      "cell_type": "code",
      "metadata": {
        "colab": {
          "base_uri": "https://localhost:8080/"
        },
        "id": "anFMWznRxraz",
        "outputId": "4b5cdf66-2249-4ddf-ed1f-6ee7ff9027a2"
      },
      "source": [
        "sum_clean=np.sum(np.absolute(Wclean_cov))-np.trace(Wclean_cov)\n",
        "avg_clean=sum_clean/(128*128-128)\n",
        "avg_clean"
      ],
      "execution_count": 224,
      "outputs": [
        {
          "output_type": "execute_result",
          "data": {
            "text/plain": [
              "5.469742149290332e-07"
            ]
          },
          "metadata": {
            "tags": []
          },
          "execution_count": 224
        }
      ]
    },
    {
      "cell_type": "code",
      "metadata": {
        "colab": {
          "base_uri": "https://localhost:8080/"
        },
        "id": "5eM_kCjuzvy6",
        "outputId": "bff7afba-70df-4ff5-bd0d-5a3c9ebf4d11"
      },
      "source": [
        "sum_noisy=np.sum(np.absolute(Wnoise_cov))-np.trace(Wnoise_cov)\n",
        "avg_noisy=sum_noisy/(128*128-128)\n",
        "avg_noisy"
      ],
      "execution_count": 225,
      "outputs": [
        {
          "output_type": "execute_result",
          "data": {
            "text/plain": [
              "0.0006737089234989374"
            ]
          },
          "metadata": {
            "tags": []
          },
          "execution_count": 225
        }
      ]
    },
    {
      "cell_type": "code",
      "metadata": {
        "id": "6dOVSAt-0x22"
      },
      "source": [
        ""
      ],
      "execution_count": 225,
      "outputs": []
    }
  ]
}