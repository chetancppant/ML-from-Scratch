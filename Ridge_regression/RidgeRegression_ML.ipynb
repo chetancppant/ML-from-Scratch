{
  "nbformat": 4,
  "nbformat_minor": 0,
  "metadata": {
    "colab": {
      "name": "RidgeRegression_ML.ipynb",
      "provenance": []
    },
    "kernelspec": {
      "name": "python3",
      "display_name": "Python 3"
    },
    "language_info": {
      "name": "python"
    }
  },
  "cells": [
    {
      "cell_type": "code",
      "metadata": {
        "colab": {
          "base_uri": "https://localhost:8080/"
        },
        "id": "XGQ2NWg9P51g",
        "outputId": "a634092a-9464-41a3-8fa1-d20fd786f130"
      },
      "source": [
        "from google.colab import drive\n",
        "drive.mount('/content/drive')\n",
        "\n"
      ],
      "execution_count": null,
      "outputs": [
        {
          "output_type": "stream",
          "text": [
            "Drive already mounted at ///content/drive; to attempt to forcibly remount, call drive.mount(\"///content/drive\", force_remount=True).\n"
          ],
          "name": "stdout"
        }
      ]
    },
    {
      "cell_type": "code",
      "metadata": {
        "id": "WRzt6FzjZUg5"
      },
      "source": [
        "import numpy as np"
      ],
      "execution_count": null,
      "outputs": []
    },
    {
      "cell_type": "code",
      "metadata": {
        "id": "egYvAN75V9VE"
      },
      "source": [
        "path1=[\"/content/drive/My Drive/lr_data/Fold1/target.npy\",\"/content/drive/My Drive/lr_data/Fold2/target.npy\",\"/content/drive/My Drive/lr_data/Fold3/target.npy\",\"/content/drive/My Drive/lr_data/Fold4/target.npy\",\"/content/drive/My Drive/lr_data/Fold5/target.npy\",\"/content/drive/My Drive/lr_data/Fold6/target.npy\",\"/content/drive/My Drive/lr_data/Fold7/target.npy\",\"/content/drive/My Drive/lr_data/Fold8/target.npy\",\"/content/drive/My Drive/lr_data/Fold9/target.npy\",\"/content/drive/My Drive/lr_data/Fold10/target.npy\"]"
      ],
      "execution_count": null,
      "outputs": []
    },
    {
      "cell_type": "code",
      "metadata": {
        "id": "ZSGUcvPsYAZ6"
      },
      "source": [
        "path2=[\"/content/drive/My Drive/lr_data/Fold1/features.npy\",\"/content/drive/My Drive/lr_data/Fold2/features.npy\",\"/content/drive/My Drive/lr_data/Fold3/features.npy\",\"/content/drive/My Drive/lr_data/Fold4/features.npy\",\"/content/drive/My Drive/lr_data/Fold5/features.npy\",\"/content/drive/My Drive/lr_data/Fold6/features.npy\",\"/content/drive/My Drive/lr_data/Fold7/features.npy\",\"/content/drive/My Drive/lr_data/Fold8/features.npy\",\"/content/drive/My Drive/lr_data/Fold9/features.npy\",\"/content/drive/My Drive/lr_data/Fold10/features.npy\"]"
      ],
      "execution_count": null,
      "outputs": []
    },
    {
      "cell_type": "code",
      "metadata": {
        "id": "j3bdi7eIhoYL"
      },
      "source": [
        "l=[0.0, 0.0001, 0.0005, 0.001, 0.005, 0.01, 0.05, 0.1, 0.5, 1.0]"
      ],
      "execution_count": null,
      "outputs": []
    },
    {
      "cell_type": "code",
      "metadata": {
        "colab": {
          "base_uri": "https://localhost:8080/"
        },
        "id": "pqtcrXcaYYTZ",
        "outputId": "29bebfb5-62cd-4385-b6cb-93a6317878b4"
      },
      "source": [
        "error=[]\n",
        "for i in range(len(path1)):\n",
        "  y_train=np.load(path1[(i+1)%10])\n",
        "  x_train=np.load(path2[(i+1)%10])\n",
        " \n",
        "  for j in range(len(path1)):\n",
        "    if i==j or j==(i+1)%10:\n",
        "      continue\n",
        "    y_train=np.append(y_train,np.load(path1[j]),axis=0)\n",
        "    x_train=np.append(x_train,np.load(path2[j]),axis=0)\n",
        "  y_test=np.load(path1[i])\n",
        "  x_test=np.load(path2[i])\n",
        "  t=[]\n",
        "  for j in range(len(l)):\n",
        "    w,b=train(x_train,y_train,l[j])\n",
        "    \n",
        "    pred=predict(x_test,w,b)\n",
        "    c=cost(y_test,pred)\n",
        "    \n",
        "    t.append(c)\n",
        "  error.append(t)\n",
        "\n",
        "err=np.array(error)\n",
        "mean_err=np.mean(err,axis=0)\n",
        "print(mean_err)\n",
        "\n",
        "min=0\n",
        "for i in range(len(l)):\n",
        "  if(mean_err[min]>mean_err[i]):\n",
        "    min=i;\n",
        "print(\"minimum error\",l[min])\n",
        "    \n",
        "\n",
        "    "
      ],
      "execution_count": null,
      "outputs": [
        {
          "output_type": "stream",
          "text": [
            "[0.00935264 0.00926021 0.00922465 0.00923367 0.00936118 0.00945785\n",
            " 0.00988202 0.01037556 0.01375367 0.01657105]\n",
            "minimum error 0.0005\n"
          ],
          "name": "stdout"
        }
      ]
    },
    {
      "cell_type": "code",
      "metadata": {
        "id": "yJ33CnSZkXeh"
      },
      "source": [
        ""
      ],
      "execution_count": null,
      "outputs": []
    },
    {
      "cell_type": "code",
      "metadata": {
        "id": "C8bQnqwxZN8S"
      },
      "source": [
        "def train(data: np.ndarray,\n",
        "          targets: np.ndarray,\n",
        "          reg_param: float ,\n",
        "          max_iters: int = 1000,\n",
        "          lr: float = 0.1) -> (np.ndarray, float):\n",
        "\n",
        "\n",
        "          n=data.shape[0]\n",
        "          a=np.dot(data.T,data)\n",
        "          I=np.identity(a.shape[1])\n",
        "          a=a+n*reg_param*I\n",
        "          w=np.dot(np.dot(np.linalg.inv(a),data.T),targets)\n",
        "\n",
        "          b=np.mean(targets,axis=0)-np.matmul(w.T,np.mean(data,axis=0))\n",
        "   \n",
        "\n",
        "\n",
        "          return w, b"
      ],
      "execution_count": null,
      "outputs": []
    },
    {
      "cell_type": "code",
      "metadata": {
        "id": "LzU3re0Xcmbf"
      },
      "source": [
        "def predict(data: np.ndarray,\n",
        "            weights: np.ndarray,\n",
        "            bias: float) -> np.ndarray:\n",
        "    \"\"\"\n",
        "    :param data: (num_examples, num_features) Data matrix\n",
        "    :param weights: (num_features, 1) Weight vector\n",
        "    :param bias: Scalar bias\n",
        "    :return predictions: (num_examples, 1) Predicted target values\n",
        "    \"\"\"\n",
        "    return np.matmul(data, weights) + bias\n"
      ],
      "execution_count": null,
      "outputs": []
    },
    {
      "cell_type": "code",
      "metadata": {
        "id": "pNThpoyIhazX"
      },
      "source": [
        "def cost(targets: np.ndarray,\n",
        "         predictions: np.ndarray) -> float:\n",
        "    \"\"\"\n",
        "    :param targets: (num_examples, 1) Target values\n",
        "    :param predictions: (num_examples, 1) Predicted values\n",
        "    :return error: Computed mean-squared error\n",
        "    \"\"\"\n",
        "    return 0.5 * np.mean(np.square(targets - predictions))\n"
      ],
      "execution_count": null,
      "outputs": []
    },
    {
      "cell_type": "code",
      "metadata": {
        "id": "UkoUOMPkhftp"
      },
      "source": [
        ""
      ],
      "execution_count": null,
      "outputs": []
    }
  ]
}