{
  "nbformat": 4,
  "nbformat_minor": 0,
  "metadata": {
    "colab": {
      "name": "question4_MLSP (1).ipynb",
      "provenance": []
    },
    "kernelspec": {
      "name": "python3",
      "display_name": "Python 3"
    },
    "language_info": {
      "name": "python"
    }
  },
  "cells": [
    {
      "cell_type": "code",
      "metadata": {
        "id": "p3s2zwsjaCSj"
      },
      "source": [
        "import numpy as np \n",
        "import pandas as pd\n",
        "import cv2\n",
        "import matplotlib.pyplot as plt \n",
        "import glob"
      ],
      "execution_count": 23,
      "outputs": []
    },
    {
      "cell_type": "code",
      "metadata": {
        "colab": {
          "base_uri": "https://localhost:8080/"
        },
        "id": "I-4gmMuCdEy-",
        "outputId": "f262c641-2c79-4641-e2ea-4e2890418c59"
      },
      "source": [
        "\n",
        "from google.colab import drive\n",
        "drive.mount('/content/drive')"
      ],
      "execution_count": 24,
      "outputs": [
        {
          "output_type": "stream",
          "text": [
            "Drive already mounted at /content/drive; to attempt to forcibly remount, call drive.mount(\"/content/drive\", force_remount=True).\n"
          ],
          "name": "stdout"
        }
      ]
    },
    {
      "cell_type": "markdown",
      "metadata": {
        "id": "1oulNlivDZVM"
      },
      "source": [
        "# **Extracting data and labels**"
      ]
    },
    {
      "cell_type": "code",
      "metadata": {
        "id": "pGmboWePq3OL"
      },
      "source": [
        "files=glob.glob('/content/drive/My Drive/Data/emotion_classification/train/*.gif')"
      ],
      "execution_count": 194,
      "outputs": []
    },
    {
      "cell_type": "code",
      "metadata": {
        "id": "UZEsWcWq2tJQ",
        "colab": {
          "base_uri": "https://localhost:8080/"
        },
        "outputId": "dd07e14f-d971-4bc8-f655-c17c52d39da1"
      },
      "source": [
        "from PIL import Image\n",
        "i=[]\n",
        "y=[]\n",
        "for file in files:\n",
        "  i.append(np.array(Image.open(file)).flatten())\n",
        "  if file.find(\"sad\")!=-1:\n",
        "    y.append(0)\n",
        "  else:\n",
        "    y.append(1)\n",
        "print(y)"
      ],
      "execution_count": 195,
      "outputs": [
        {
          "output_type": "stream",
          "text": [
            "[0, 0, 0, 1, 0, 1, 0, 1, 0, 1, 1, 1, 1, 0, 0, 0, 0, 1, 1, 0]\n"
          ],
          "name": "stdout"
        }
      ]
    },
    {
      "cell_type": "markdown",
      "metadata": {
        "id": "ZmoOy_qMEIfy"
      },
      "source": [
        "# **Standardizing the data**"
      ]
    },
    {
      "cell_type": "code",
      "metadata": {
        "colab": {
          "base_uri": "https://localhost:8080/"
        },
        "id": "eniiu_5MbBoC",
        "outputId": "ce938307-ca90-4557-c729-c3608ec6a3af"
      },
      "source": [
        "\n",
        "x=np.array(i)\n",
        "from sklearn.preprocessing import StandardScaler\n",
        "X_scaled = StandardScaler().fit_transform(x)\n",
        "X_scaled"
      ],
      "execution_count": 196,
      "outputs": [
        {
          "output_type": "execute_result",
          "data": {
            "text/plain": [
              "array([[ 0.13084919,  0.23797385,  0.28274725, ..., -0.65346227,\n",
              "        -0.75135426, -0.82742488],\n",
              "       [ 0.742294  ,  0.90430064,  1.05070274, ..., -0.18090198,\n",
              "        -0.25176613, -0.327509  ],\n",
              "       [ 0.27759595,  0.49974509,  0.79471758, ..., -0.5353222 ,\n",
              "        -0.58044253, -0.60951283],\n",
              "       ...,\n",
              "       [ 0.91349855,  1.04708496,  1.00415998, ..., -0.01845939,\n",
              "        -0.12029556, -0.30187229],\n",
              "       [ 0.00856023, -0.09518954, -0.2059517 , ..., -0.72729982,\n",
              "        -0.77764837, -0.87869831],\n",
              "       [-1.04312485, -0.99949019, -0.92736443, ..., -0.59439224,\n",
              "        -0.67247192, -0.82742488]])"
            ]
          },
          "metadata": {
            "tags": []
          },
          "execution_count": 196
        }
      ]
    },
    {
      "cell_type": "markdown",
      "metadata": {
        "id": "lgB-UosHXKQ7"
      },
      "source": [
        "# **Applying High Dimension PCA**"
      ]
    },
    {
      "cell_type": "code",
      "metadata": {
        "id": "DTFqS8c7f7j_"
      },
      "source": [
        "dummy=np.dot(X_scaled,np.transpose(X_scaled))\n",
        "dummy.shape\n",
        "\n",
        "e_value,e_vector=np.linalg.eigh(dummy)\n",
        "e_vector=np.transpose(e_vector)"
      ],
      "execution_count": 197,
      "outputs": []
    },
    {
      "cell_type": "markdown",
      "metadata": {
        "id": "RaSNwfMYYwfU"
      },
      "source": [
        "# **finding the value of K**"
      ]
    },
    {
      "cell_type": "code",
      "metadata": {
        "id": "DSAHifkhYu12",
        "outputId": "9847f1c8-e5ca-496a-e559-70d4f23c6f46",
        "colab": {
          "base_uri": "https://localhost:8080/"
        }
      },
      "source": [
        "\n",
        "total_var = 0.0\n",
        "for i in range(20):\n",
        "  total_var = total_var + e_value[i]\n",
        "local_var=0.0\n",
        "for i in range(20):\n",
        "  local_var= local_var+ e_value[19 - i]\n",
        "  print(\"number of eigen value \",i+1,\"varience explaine(%)\",(local_var/total_var)*100)"
      ],
      "execution_count": 198,
      "outputs": [
        {
          "output_type": "stream",
          "text": [
            "number of eigen value  1 varience explaine(%) 28.600188932919018\n",
            "number of eigen value  2 varience explaine(%) 42.57648407715873\n",
            "number of eigen value  3 varience explaine(%) 51.65794283966964\n",
            "number of eigen value  4 varience explaine(%) 58.456645686018305\n",
            "number of eigen value  5 varience explaine(%) 64.76936914467068\n",
            "number of eigen value  6 varience explaine(%) 70.40155537425274\n",
            "number of eigen value  7 varience explaine(%) 75.07612431100017\n",
            "number of eigen value  8 varience explaine(%) 79.11120716533873\n",
            "number of eigen value  9 varience explaine(%) 82.3005272018994\n",
            "number of eigen value  10 varience explaine(%) 85.30494355185763\n",
            "number of eigen value  11 varience explaine(%) 88.11401446769509\n",
            "number of eigen value  12 varience explaine(%) 90.48591370151783\n",
            "number of eigen value  13 varience explaine(%) 92.41545182250253\n",
            "number of eigen value  14 varience explaine(%) 94.2109568544254\n",
            "number of eigen value  15 varience explaine(%) 95.64800366594443\n",
            "number of eigen value  16 varience explaine(%) 97.05107187331542\n",
            "number of eigen value  17 varience explaine(%) 98.24538373869889\n",
            "number of eigen value  18 varience explaine(%) 99.24924859641257\n",
            "number of eigen value  19 varience explaine(%) 99.99999999999999\n",
            "number of eigen value  20 varience explaine(%) 99.99999999999999\n"
          ],
          "name": "stdout"
        }
      ]
    },
    {
      "cell_type": "code",
      "metadata": {
        "id": "KNHKCYfN4A3u"
      },
      "source": [
        "import math\n",
        "a=[]\n",
        "i=0\n",
        "X_t=np.transpose(X_scaled)\n",
        "K=18\n",
        "for i in range(K):\n",
        "  d=math.sqrt(20*e_value[len(e_value)-1-i])\n",
        "  a.append(np.dot(X_t,e_vector[len(e_value)-1-i])/d)\n",
        "a=np.array(a)\n",
        "a.shape\n",
        "\n",
        "#a is the matrix of eigen vector of X^T.X (eigen vectors present in row wise form)\n",
        "p=np.dot(a,np.transpose(X_scaled))\n",
        "\n",
        "p=np.transpose(p)\n",
        "\n",
        "#p is our projection on low dimension\n",
        "\n"
      ],
      "execution_count": 199,
      "outputs": []
    },
    {
      "cell_type": "code",
      "metadata": {
        "colab": {
          "base_uri": "https://localhost:8080/"
        },
        "id": "SIEMyQq9TOlY",
        "outputId": "bcd2dc50-8e39-46d3-cab3-dabef9afc8ed"
      },
      "source": [
        "p\n"
      ],
      "execution_count": 200,
      "outputs": [
        {
          "output_type": "execute_result",
          "data": {
            "text/plain": [
              "array([[-2.96375157e-03,  9.61501880e+00,  5.04501853e+00,\n",
              "        -5.01629088e+00,  3.69019659e+00, -5.95843255e+00,\n",
              "         2.39310144e+00, -6.48368969e+00,  8.06929240e+00,\n",
              "        -4.17301665e-01,  7.17539989e-02, -4.48149205e+00,\n",
              "         3.24985877e+00,  6.92576118e+00, -4.26149781e-01,\n",
              "         1.24277147e+00, -5.52820575e-01,  6.42479961e-01],\n",
              "       [-3.94376047e+00, -2.81701956e+00,  2.61329999e+00,\n",
              "        -1.35661676e+01,  6.47233409e+00, -3.62471803e+00,\n",
              "         6.98352197e-01,  5.04937053e+00, -9.94199332e-01,\n",
              "        -4.38318774e+00, -2.17143032e+00, -2.07970574e+00,\n",
              "        -3.77212827e+00, -3.12058124e+00,  3.80020132e+00,\n",
              "         5.02849130e+00,  5.66458051e-01, -4.95842479e-01],\n",
              "       [ 3.74509374e+00, -6.67306361e+00, -2.80013820e+00,\n",
              "        -9.48230580e+00,  2.83517707e+00,  1.74445104e+00,\n",
              "         2.61575771e+00,  6.18514761e-01, -2.03550614e+00,\n",
              "        -4.77333781e-01,  3.47130438e-01,  4.64799620e+00,\n",
              "         2.26298288e+00, -4.73845023e-01, -6.57958803e-01,\n",
              "        -2.75715916e+00, -8.84474903e-01,  3.39277359e+00],\n",
              "       [-1.06062456e+00, -1.18678144e+01, -6.71829530e+00,\n",
              "        -1.48816515e+00,  1.35889342e+00,  2.26910428e-01,\n",
              "        -7.10489238e+00, -3.70056246e+00, -6.65777648e+00,\n",
              "         1.07827193e+00, -1.71811733e+00, -6.23432992e+00,\n",
              "        -4.90538654e+00,  4.67790200e+00, -2.22646970e+00,\n",
              "        -2.17963955e+00,  1.56573847e+00,  1.19334614e+00],\n",
              "       [-9.07065208e-01,  5.75568145e+00,  2.25322426e+00,\n",
              "        -5.32927983e+00,  1.93689509e+00, -1.93305913e+00,\n",
              "         4.82531881e+00, -7.09219698e-01,  3.36585386e+00,\n",
              "        -4.52091251e-01,  2.97083192e+00, -1.32330233e+00,\n",
              "        -2.89499191e+00, -4.50454296e+00, -1.51110000e+00,\n",
              "        -8.32336635e+00,  3.28736137e-01, -7.19991812e-01],\n",
              "       [ 7.71422576e+00, -1.11716265e+01,  1.65156041e+00,\n",
              "        -7.38954961e+00, -7.75322826e-01,  5.91610094e+00,\n",
              "         4.32837559e+00, -7.40844680e+00, -2.85507844e+00,\n",
              "         4.34499037e+00,  3.54106933e-01,  5.41309146e+00,\n",
              "         2.63994983e+00,  1.45382229e+00, -2.94345506e-01,\n",
              "         1.60320100e+00, -9.82714235e-01, -3.29684977e+00],\n",
              "       [-1.45783846e+00,  1.34008270e+01, -5.27097963e-01,\n",
              "        -8.94670257e-01, -9.33046145e+00,  1.62808692e+00,\n",
              "         4.05047341e+00,  2.81064502e+00, -5.37431744e+00,\n",
              "        -4.02128812e-01,  4.76612553e+00, -1.65883190e+00,\n",
              "        -1.94893539e+00,  2.49644416e+00,  6.53487411e-01,\n",
              "         3.25630640e-01,  1.45599880e+00, -5.17162928e+00],\n",
              "       [ 7.87459845e+00, -1.68306097e+00,  1.75157553e+01,\n",
              "         7.10413953e+00,  3.39717772e+00,  5.08005538e-01,\n",
              "        -1.44663734e+00,  9.10581297e-01, -7.41883910e-01,\n",
              "         3.93789316e+00, -1.49201687e+00, -6.43023342e-01,\n",
              "        -4.45178640e+00, -9.30973970e-01, -1.35627421e+00,\n",
              "         5.68319515e-01, -5.80289283e+00, -7.17381255e-01],\n",
              "       [-2.44056648e+01,  2.74583838e+00,  4.61304697e+00,\n",
              "        -4.92913963e+00, -1.20768550e+01,  2.51199325e+00,\n",
              "        -9.45011649e+00,  6.59654423e-01,  4.60194285e+00,\n",
              "         1.26447059e+00, -6.11194912e+00,  3.34678531e+00,\n",
              "        -8.02401955e-02, -4.52146083e-01, -6.74493000e-01,\n",
              "        -6.76687750e-01,  5.10042483e-01, -1.31366217e-01],\n",
              "       [-2.18275457e-01,  9.58280586e+00,  1.77130034e+00,\n",
              "         1.91244419e+00, -8.16454881e+00,  2.05340603e+00,\n",
              "         5.70147166e+00,  3.35952500e-01, -4.41945887e+00,\n",
              "        -4.14127327e+00,  1.69583296e+00,  1.71401764e+00,\n",
              "        -1.51961909e+00,  1.39239584e+00, -1.18254210e+00,\n",
              "         2.00514423e+00, -1.66092364e+00,  6.21943039e+00],\n",
              "       [-3.21507520e+01, -1.02529672e+01, -3.25725910e+00,\n",
              "         1.06980510e+01,  5.71051875e+00,  1.31780018e+00,\n",
              "         7.68758404e+00, -1.78159614e+00,  1.64123038e+00,\n",
              "        -5.43695707e+00, -1.00245692e+00,  1.81139860e+00,\n",
              "        -1.03922375e+00,  8.09317917e-01, -6.50022829e-01,\n",
              "         3.29445661e-01,  8.35002813e-02, -1.46077454e+00],\n",
              "       [ 1.05081988e+00,  3.90067801e+00, -3.45604853e+00,\n",
              "         4.98174395e+00, -1.58155344e+00, -1.67233233e+01,\n",
              "        -4.09212470e+00, -7.29778513e+00, -5.06983739e+00,\n",
              "        -6.69947316e-01, -5.99816336e-01,  3.22025667e+00,\n",
              "         1.71931500e+00, -3.10139055e+00,  2.29076300e+00,\n",
              "        -1.79821101e-01, -6.97182919e-01, -5.16415027e-01],\n",
              "       [ 1.52094262e+01, -1.45547182e+01, -1.49598465e+00,\n",
              "         4.68317849e+00, -8.32414407e+00, -4.92768460e+00,\n",
              "         4.13767039e+00,  1.60894390e+00,  7.36265954e+00,\n",
              "         4.47521743e+00,  2.16349692e+00,  7.21927044e-01,\n",
              "        -3.66993881e+00, -5.31364115e-01,  1.11001337e+00,\n",
              "         1.73418772e+00,  3.88671768e+00,  1.30800040e+00],\n",
              "       [ 1.72566367e+01, -6.72684819e+00, -8.95635460e+00,\n",
              "         1.02182621e+00, -4.00868098e+00, -2.80909456e+00,\n",
              "        -1.78846339e+00,  8.28625997e+00,  2.52944515e+00,\n",
              "        -6.49878674e+00, -2.45956993e+00, -9.23783548e-01,\n",
              "         3.37626047e+00,  1.15118956e+00, -3.14633677e+00,\n",
              "        -6.20423721e-01, -3.99900950e+00, -2.30930194e+00],\n",
              "       [-1.84709193e+00,  1.37979305e+01, -1.17073385e+01,\n",
              "         2.24736085e+00,  9.12307894e+00, -8.01835267e-01,\n",
              "         3.76843472e-01,  6.99580213e+00,  4.63295070e-01,\n",
              "         8.59194791e+00, -2.81298032e+00,  4.31430279e+00,\n",
              "        -1.50926813e+00,  2.56788119e+00,  1.89516288e-01,\n",
              "         2.22990703e-01, -6.31962883e-03,  2.99610578e-01],\n",
              "       [-1.84701097e+01, -6.46108476e+00,  2.74280408e-01,\n",
              "         6.87387646e-01, -6.93933188e-01, -4.32794648e-01,\n",
              "        -1.47697799e+00,  4.80129555e+00, -1.70467865e+00,\n",
              "         6.28473436e+00,  6.95765015e+00, -5.78543200e+00,\n",
              "         6.50467171e+00, -2.64553628e+00,  4.56938250e-01,\n",
              "         9.18316893e-01, -1.31947379e+00,  1.25177006e+00],\n",
              "       [ 8.50251167e+00, -1.09565661e+00,  1.46387953e+01,\n",
              "         5.15570705e+00,  5.10417094e+00,  3.86056326e-01,\n",
              "        -2.90457636e+00,  5.49878186e+00, -3.13820278e+00,\n",
              "        -3.05456715e+00, -9.10816862e-01,  2.22395530e+00,\n",
              "         4.24025287e+00,  2.38810801e+00,  8.49279625e-01,\n",
              "        -2.03151377e+00,  5.73454257e+00,  1.31561466e-01],\n",
              "       [ 5.43160373e+00,  4.69362579e+00, -3.89579186e+00,\n",
              "         1.78395725e+00,  5.50591723e+00,  6.18520532e+00,\n",
              "        -1.06918438e+01, -3.36448243e+00,  3.99395857e+00,\n",
              "        -3.86902392e+00,  9.22350961e+00,  3.00200448e+00,\n",
              "        -1.68371761e+00, -1.62931995e+00, -1.59673329e+00,\n",
              "         2.44218344e+00,  4.98568691e-01, -1.53650337e-01],\n",
              "       [ 8.58657619e+00,  1.79728822e+00, -4.68414470e+00,\n",
              "         4.87667211e+00, -1.21595451e+00,  9.52123556e+00,\n",
              "        -8.60613015e-01, -2.78828650e+00,  1.65625120e+00,\n",
              "        -1.15910655e+00, -2.72020029e+00, -2.89755469e+00,\n",
              "         9.64403638e-01, -3.28052416e-01,  8.90230965e+00,\n",
              "        -2.33698612e+00, -1.68663614e+00,  5.66667337e-01],\n",
              "       [ 9.09265403e+00,  8.01416599e+00, -2.87782808e+00,\n",
              "         2.94310052e+00,  1.03709440e+00,  5.21169061e+00,\n",
              "         3.00129675e+00, -4.04173311e+00, -6.92989572e-01,\n",
              "         9.84179515e-01, -6.55108416e+00, -4.38827996e+00,\n",
              "         2.51754093e+00, -6.14506959e+00, -4.53008290e+00,\n",
              "         2.68491496e+00,  2.96214497e+00, -3.24372702e-02]])"
            ]
          },
          "metadata": {
            "tags": []
          },
          "execution_count": 200
        }
      ]
    },
    {
      "cell_type": "markdown",
      "metadata": {
        "id": "KurYvk5KXoOk"
      },
      "source": [
        "# **Linear Discriminant Analysis**"
      ]
    },
    {
      "cell_type": "code",
      "metadata": {
        "id": "noCy-ASNyGV6"
      },
      "source": [
        "c1=[]\n",
        "c2=[]\n",
        "for i in range(p.shape[0]):\n",
        "  if(y[i]==0):\n",
        "    c1.append(p[i])\n",
        "  else:\n",
        "    c2.append(p[i])\n",
        "np.array(c1).shape\n",
        "m1=np.mean(np.array(c1),axis=0)\n",
        "m2=np.mean(np.array(c2),axis=0)\n",
        "\n"
      ],
      "execution_count": 201,
      "outputs": []
    },
    {
      "cell_type": "markdown",
      "metadata": {
        "id": "K-Zh0AaiImCn"
      },
      "source": [
        "# **Calculating S_b ( between class covarience matrix )**"
      ]
    },
    {
      "cell_type": "code",
      "metadata": {
        "colab": {
          "base_uri": "https://localhost:8080/"
        },
        "id": "167wlPaj4IBb",
        "outputId": "be060ec2-645a-40ed-d4ab-aef757ed2860"
      },
      "source": [
        "\n",
        "sub=np.subtract(m2,m1)\n",
        "print(sub.shape)\n",
        "sb=np.outer(sub,sub)\n",
        "print(sb.shape)\n"
      ],
      "execution_count": 202,
      "outputs": [
        {
          "output_type": "stream",
          "text": [
            "(18,)\n",
            "(18, 18)\n"
          ],
          "name": "stdout"
        }
      ]
    },
    {
      "cell_type": "markdown",
      "metadata": {
        "id": "0n9NhEa0I2AA"
      },
      "source": [
        "# **Calculating S_w (Within Class Covarience Matrix)**"
      ]
    },
    {
      "cell_type": "code",
      "metadata": {
        "colab": {
          "base_uri": "https://localhost:8080/"
        },
        "id": "oAZhwSjP4zMX",
        "outputId": "7715335f-e177-4741-e7d8-143e6f2bcea3"
      },
      "source": [
        "cov1=np.cov(np.transpose(np.array(c1)))\n",
        "cov2=np.cov(np.transpose(np.array(c2)))\n",
        "sw=np.add(cov1,cov2)\n",
        "sw.shape"
      ],
      "execution_count": 203,
      "outputs": [
        {
          "output_type": "execute_result",
          "data": {
            "text/plain": [
              "(18, 18)"
            ]
          },
          "metadata": {
            "tags": []
          },
          "execution_count": 203
        }
      ]
    },
    {
      "cell_type": "code",
      "metadata": {
        "colab": {
          "base_uri": "https://localhost:8080/"
        },
        "id": "D8znmolr-edw",
        "outputId": "06b7f433-2dbb-47c1-9013-a6ca94cdf643"
      },
      "source": [
        "res_matrix=np.dot(np.linalg.inv(sw),sb)\n",
        "res_matrix.shape"
      ],
      "execution_count": 204,
      "outputs": [
        {
          "output_type": "execute_result",
          "data": {
            "text/plain": [
              "(18, 18)"
            ]
          },
          "metadata": {
            "tags": []
          },
          "execution_count": 204
        }
      ]
    },
    {
      "cell_type": "code",
      "metadata": {
        "colab": {
          "base_uri": "https://localhost:8080/"
        },
        "id": "u-QXgAjq-_-6",
        "outputId": "5da3fc6f-70dc-4c1b-935f-0a9c0504b575"
      },
      "source": [
        "e_val,e_vect=np.linalg.eigh(res_matrix)\n",
        "e_vect1=np.transpose(e_vect)\n",
        "w=e_vect1[K-1]\n",
        "w.shape\n",
        "#W is the vector of (Sw^-1).(Sb)\n"
      ],
      "execution_count": 205,
      "outputs": [
        {
          "output_type": "execute_result",
          "data": {
            "text/plain": [
              "(18,)"
            ]
          },
          "metadata": {
            "tags": []
          },
          "execution_count": 205
        }
      ]
    },
    {
      "cell_type": "markdown",
      "metadata": {
        "id": "M-nDsGe_JkOU"
      },
      "source": [
        "# **testing LDA on train data**"
      ]
    },
    {
      "cell_type": "code",
      "metadata": {
        "id": "owUGnBNu_j1I"
      },
      "source": [
        "y_new=np.dot(p,w)"
      ],
      "execution_count": 206,
      "outputs": []
    },
    {
      "cell_type": "code",
      "metadata": {
        "colab": {
          "base_uri": "https://localhost:8080/"
        },
        "id": "EiLTPXg4vry1",
        "outputId": "f1dd5c96-2a3f-4933-a549-d9e1d5a5fa69"
      },
      "source": [
        "y_new\n"
      ],
      "execution_count": 207,
      "outputs": [
        {
          "output_type": "execute_result",
          "data": {
            "text/plain": [
              "array([  6.37081737,   6.16093577,   0.44900403,  -7.01321429,\n",
              "         6.4872155 ,  -6.63217476,   6.23181502,  -6.28226779,\n",
              "         8.03808282,  -0.49316948,  -3.78440432,  -3.93484147,\n",
              "       -10.95419478,  -1.08589375,   7.78351419,   4.19588522,\n",
              "         1.34577922,  -3.88679505,  -5.62592945,   2.62983601])"
            ]
          },
          "metadata": {
            "tags": []
          },
          "execution_count": 207
        }
      ]
    },
    {
      "cell_type": "code",
      "metadata": {
        "colab": {
          "base_uri": "https://localhost:8080/",
          "height": 282
        },
        "id": "afDYlvvg_8HM",
        "outputId": "7baf43a9-1d24-4e9f-f576-9b56cdc6a3d5"
      },
      "source": [
        "\n",
        "plt.plot(y_new,np.array(y),\"ob\")"
      ],
      "execution_count": 208,
      "outputs": [
        {
          "output_type": "execute_result",
          "data": {
            "text/plain": [
              "[<matplotlib.lines.Line2D at 0x7f73a6e3d910>]"
            ]
          },
          "metadata": {
            "tags": []
          },
          "execution_count": 208
        },
        {
          "output_type": "display_data",
          "data": {
            "image/png": "[encoded data removed]",
            "text/plain": [
              "<Figure size 432x288 with 1 Axes>"
            ]
          },
          "metadata": {
            "tags": [],
            "needs_background": "light"
          }
        }
      ]
    },
    {
      "cell_type": "code",
      "metadata": {
        "id": "EwV8xGF8AGYI"
      },
      "source": [
        ""
      ],
      "execution_count": 208,
      "outputs": []
    },
    {
      "cell_type": "markdown",
      "metadata": {
        "id": "YdgNMpagZIVU"
      },
      "source": [
        "# **Extracting Test data**\n"
      ]
    },
    {
      "cell_type": "code",
      "metadata": {
        "id": "6yEfHvRvZK11"
      },
      "source": [
        "from PIL import Image\n",
        "i_test=[]\n",
        "y_test=[]\n",
        "files=glob.glob('/content/drive/My Drive/Data/emotion_classification/test/*.gif')\n",
        "for file in files:\n",
        "  i_test.append(np.array(Image.open(file)).flatten())\n",
        "  if file.find(\"sad\")!=-1:\n",
        "    y_test.append(0)\n",
        "  else:\n",
        "    y_test.append(1)\n",
        "x_test=np.array(i_test)\n",
        "\n"
      ],
      "execution_count": 209,
      "outputs": []
    },
    {
      "cell_type": "code",
      "metadata": {
        "id": "qR7QMi-xo_RO"
      },
      "source": [
        "S=StandardScaler().fit(x)\n",
        "x_test_scaled=S.transform(x_test)"
      ],
      "execution_count": 210,
      "outputs": []
    },
    {
      "cell_type": "code",
      "metadata": {
        "id": "D_4yqXSso5Cd"
      },
      "source": [
        "\n"
      ],
      "execution_count": 210,
      "outputs": []
    },
    {
      "cell_type": "markdown",
      "metadata": {
        "id": "DP90e6ZvrSWt"
      },
      "source": [
        "# **PCA on test data**\n"
      ]
    },
    {
      "cell_type": "code",
      "metadata": {
        "id": "-d9XZBJ2rWT0",
        "colab": {
          "base_uri": "https://localhost:8080/"
        },
        "outputId": "cda72c9d-b681-43a1-c477-1b6da6f4b3a4"
      },
      "source": [
        "p_test=np.dot(a,np.transpose(x_test_scaled))\n",
        "\n",
        "print(p_test.shape)"
      ],
      "execution_count": 211,
      "outputs": [
        {
          "output_type": "stream",
          "text": [
            "(18, 10)\n"
          ],
          "name": "stdout"
        }
      ]
    },
    {
      "cell_type": "markdown",
      "metadata": {
        "id": "_zCwTLQRH11h"
      },
      "source": [
        "# **LDA on test data**"
      ]
    },
    {
      "cell_type": "code",
      "metadata": {
        "id": "Wqr_CIYDrdXE"
      },
      "source": [
        "y_test_new=np.dot(p_test.T,w)"
      ],
      "execution_count": 212,
      "outputs": []
    },
    {
      "cell_type": "code",
      "metadata": {
        "id": "iGCgMyAws9Rf",
        "colab": {
          "base_uri": "https://localhost:8080/",
          "height": 282
        },
        "outputId": "f9effec4-8731-4ac1-82c6-bdb745b2e1f6"
      },
      "source": [
        "\n",
        "plt.plot(y_test_new,np.array(y_test),\"ob\")"
      ],
      "execution_count": 213,
      "outputs": [
        {
          "output_type": "execute_result",
          "data": {
            "text/plain": [
              "[<matplotlib.lines.Line2D at 0x7f73a6daf490>]"
            ]
          },
          "metadata": {
            "tags": []
          },
          "execution_count": 213
        },
        {
          "output_type": "display_data",
          "data": {
            "image/png": "[encoded data removed]",
            "text/plain": [
              "<Figure size 432x288 with 1 Axes>"
            ]
          },
          "metadata": {
            "tags": [],
            "needs_background": "light"
          }
        }
      ]
    },
    {
      "cell_type": "code",
      "metadata": {
        "id": "zT77jAlNtqnI",
        "colab": {
          "base_uri": "https://localhost:8080/"
        },
        "outputId": "490a7d19-3223-4d20-8269-3e97f2d1f46d"
      },
      "source": [
        "y_test_predict=[]\n",
        "for i in range(10):\n",
        "  if(y_test_new[i]<0):\n",
        "    y_test_predict.append(1)\n",
        "  else:\n",
        "    y_test_predict.append(0)\n",
        "  \n",
        "from sklearn.metrics import accuracy_score\n",
        "accuracy_score(y_test,y_test_predict)"
      ],
      "execution_count": 214,
      "outputs": [
        {
          "output_type": "execute_result",
          "data": {
            "text/plain": [
              "0.9"
            ]
          },
          "metadata": {
            "tags": []
          },
          "execution_count": 214
        }
      ]
    },
    {
      "cell_type": "code",
      "metadata": {
        "id": "H0Vk4HEFOj37"
      },
      "source": [
        "\n"
      ],
      "execution_count": 214,
      "outputs": []
    },
    {
      "cell_type": "code",
      "metadata": {
        "id": "6URZ2A3NVR6O"
      },
      "source": [
        ""
      ],
      "execution_count": 214,
      "outputs": []
    }
  ]
}