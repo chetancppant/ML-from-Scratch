{
  "nbformat": 4,
  "nbformat_minor": 0,
  "metadata": {
    "colab": {
      "name": "Bayes_ML (1).ipynb",
      "provenance": [],
      "collapsed_sections": []
    },
    "kernelspec": {
      "name": "python3",
      "display_name": "Python 3"
    },
    "language_info": {
      "name": "python"
    }
  },
  "cells": [
    {
      "cell_type": "code",
      "metadata": {
        "colab": {
          "base_uri": "https://localhost:8080/"
        },
        "id": "7C22xKPifkCN",
        "outputId": "9439c156-4d6d-4860-ee51-3cc9e5064945"
      },
      "source": [
        "from google.colab import drive\n",
        "drive.mount('/content/drive')"
      ],
      "execution_count": null,
      "outputs": [
        {
          "output_type": "stream",
          "text": [
            "Mounted at /content/drive\n"
          ],
          "name": "stdout"
        }
      ]
    },
    {
      "cell_type": "code",
      "metadata": {
        "id": "qE0zR7Wmj6gX"
      },
      "source": [
        "import numpy as np\n",
        "import pandas as pd\n",
        "import pickle\n",
        "import math"
      ],
      "execution_count": null,
      "outputs": []
    },
    {
      "cell_type": "code",
      "metadata": {
        "id": "ru5KAxsnlB7e"
      },
      "source": [
        "x_train=np.load('/content/drive/My Drive/nb/train_features.npy')\n",
        "y_train=np.load('/content/drive/My Drive/nb/train_labels.npy')\n",
        "x_test=np.load('/content/drive/My Drive/nb/test_features.npy')\n",
        "y_test=np.load('/content/drive/My Drive/nb/test_labels.npy')\n"
      ],
      "execution_count": null,
      "outputs": []
    },
    {
      "cell_type": "code",
      "metadata": {
        "colab": {
          "base_uri": "https://localhost:8080/"
        },
        "id": "SijQwN8mtrN1",
        "outputId": "62c2e033-f0c1-4c2f-b520-8e33c9702d6a"
      },
      "source": [
        "x_train"
      ],
      "execution_count": null,
      "outputs": [
        {
          "output_type": "execute_result",
          "data": {
            "text/plain": [
              "array([[ 0,  0, 10, ...,  0,  0,  0],\n",
              "       [ 0,  0,  5, ...,  0,  0,  0],\n",
              "       [ 0,  0,  0, ...,  0,  0,  0],\n",
              "       ...,\n",
              "       [ 0,  0,  5, ...,  0,  0,  0],\n",
              "       [ 0,  0,  2, ...,  0,  0,  0],\n",
              "       [ 0,  0,  1, ...,  0,  0,  0]])"
            ]
          },
          "metadata": {
            "tags": []
          },
          "execution_count": 4
        }
      ]
    },
    {
      "cell_type": "code",
      "metadata": {
        "id": "I_3E7j5ev-73",
        "colab": {
          "base_uri": "https://localhost:8080/"
        },
        "outputId": "e2c4c729-c74e-4c76-880f-526d47f1d10e"
      },
      "source": [
        "pc,mean=compute_probs(x_train,y_train)\n",
        "print(pc)"
      ],
      "execution_count": null,
      "outputs": [
        {
          "output_type": "stream",
          "text": [
            "[0.13276519398968378, 0.8672348060103162]\n"
          ],
          "name": "stdout"
        }
      ]
    },
    {
      "cell_type": "code",
      "metadata": {
        "id": "lPMyFmKxvcCz"
      },
      "source": [
        "def compute_probs(X, y):\n",
        "    spam=0\n",
        "    ham=0\n",
        "    for i in y:\n",
        "      if(i==1):\n",
        "        spam=spam+1\n",
        "      else:\n",
        "        ham=ham+1\n",
        "    pc=[]\n",
        "    print(spam)\n",
        "    pc.append(ham/(spam+ham))\n",
        "    pc.append(spam/(spam+ham))\n",
        "    class_h=[]\n",
        "    class_s=[]\n",
        "    for i in range(X.shape[0]):\n",
        "      if(y[i]==0):\n",
        "        class_h.append(X[i])\n",
        "      else:\n",
        "        class_s.append(X[i])\n",
        "    mean_h=np.mean(class_h,axis=0)\n",
        "    mean_s=np.mean(class_s,axis=0)\n",
        "    mean=[]\n",
        "    mean.append(mean_h)\n",
        "    mean.append(mean_s)\n",
        "    \n",
        "    return pc,np.array(mean)"
      ],
      "execution_count": null,
      "outputs": []
    },
    {
      "cell_type": "code",
      "metadata": {
        "id": "EXf3MI2Me1SS"
      },
      "source": [
        "def predict(X,pc,mean):\n",
        "\n",
        "    y_pred =[]\n",
        "    num_sentences = X.shape[0]\n",
        "    words = X.shape[1]\n",
        "\n",
        "    for i in range(num_sentences):\n",
        "        ham =1\n",
        "        spam =1\n",
        "        \n",
        "        for j in range(words):\n",
        "            spam *= (math.exp(-mean[1][j])* (mean[1][j] ** X[i][j]))\n",
        "            ham *= (math.exp(-mean[0][j])* (mean[0][j] ** X[i][j]))\n",
        "        post_spam = spam*pc[1]\n",
        "        post_ham = ham *pc[0]\n",
        "        \n",
        "        if(post_ham>post_spam):\n",
        "          y_pred.append(0)\n",
        "        else:\n",
        "          y_pred.append(1)\n",
        "          \n",
        "\n",
        "    return np.array(y_pred)\n"
      ],
      "execution_count": null,
      "outputs": []
    },
    {
      "cell_type": "markdown",
      "metadata": {
        "id": "ix3DkMEwgU6M"
      },
      "source": [
        "# **accuracy on training data**"
      ]
    },
    {
      "cell_type": "code",
      "metadata": {
        "id": "4PBFti0qgFBY",
        "colab": {
          "base_uri": "https://localhost:8080/"
        },
        "outputId": "ce3150c7-d6e0-4af4-bc00-df135c70d032"
      },
      "source": [
        "y_train_predict=predict(x_train,pc,mean)\n",
        "print('Train accuracy:', (y_train_predict.reshape((-1,)) == y_train.reshape((-1,))).mean())\n"
      ],
      "execution_count": null,
      "outputs": [
        {
          "output_type": "stream",
          "text": [
            "Train accuracy: 0.989010989010989\n"
          ],
          "name": "stdout"
        }
      ]
    },
    {
      "cell_type": "markdown",
      "metadata": {
        "id": "nCyTFe05ho-W"
      },
      "source": [
        "# **accuracy on testing data**"
      ]
    },
    {
      "cell_type": "code",
      "metadata": {
        "colab": {
          "base_uri": "https://localhost:8080/"
        },
        "id": "RGzVgSqkg09e",
        "outputId": "41643c96-5114-4a84-c255-108ab458302a"
      },
      "source": [
        "y_test_predict=predict(x_test,pc,mean)\n",
        "print('Train accuracy:', (y_test_predict.reshape((-1,)) == y_test.reshape((-1,))).mean())\n"
      ],
      "execution_count": null,
      "outputs": [
        {
          "output_type": "stream",
          "text": [
            "Train accuracy: 0.9811659192825112\n"
          ],
          "name": "stdout"
        }
      ]
    },
    {
      "cell_type": "code",
      "metadata": {
        "id": "6SuhzhH0iN8w"
      },
      "source": [
        ""
      ],
      "execution_count": null,
      "outputs": []
    }
  ]
}